{
 "cells": [
  {
   "cell_type": "markdown",
   "metadata": {},
   "source": [
    "# Create some Fake Data\n",
    "\n",
    "This can be used to run some validations about the logic before getting real customer data"
   ]
  },
  {
   "cell_type": "code",
   "execution_count": 100,
   "metadata": {},
   "outputs": [],
   "source": [
    "import pandas as pd\n",
    "import numpy as np\n",
    "import json\n",
    "from datetime import datetime, timedelta\n",
    "#from faker import Faker\n"
   ]
  },
  {
   "cell_type": "code",
   "execution_count": 101,
   "metadata": {},
   "outputs": [],
   "source": [
    "%store -r email\n",
    "%store -r login\n"
   ]
  },
  {
   "cell_type": "code",
   "execution_count": 102,
   "metadata": {},
   "outputs": [
    {
     "name": "stdout",
     "output_type": "stream",
     "text": [
      "[datetime.date(2023, 6, 12), datetime.date(2023, 2, 2), datetime.date(2023, 1, 12), datetime.date(2023, 4, 4), datetime.date(2023, 4, 21), datetime.date(2023, 8, 28), datetime.date(2023, 6, 23), datetime.date(2021, 12, 1), datetime.date(2023, 8, 24), datetime.date(2023, 4, 17), datetime.date(2023, 7, 10), datetime.date(2023, 5, 30), datetime.date(2023, 3, 10), datetime.date(2023, 8, 28), datetime.date(2023, 8, 25), datetime.date(2023, 8, 25), datetime.date(2023, 2, 17), datetime.date(2023, 8, 22), datetime.date(2023, 7, 2), datetime.date(2023, 8, 18), datetime.date(2023, 2, 6), datetime.date(2023, 1, 25), datetime.date(2023, 8, 20), datetime.date(2023, 8, 21), datetime.date(2023, 1, 24), datetime.date(2023, 8, 24), datetime.date(2023, 4, 5), datetime.date(2023, 8, 13), datetime.date(2023, 3, 15), datetime.date(2023, 2, 10), datetime.date(2022, 11, 1), datetime.date(2023, 8, 17), datetime.date(2023, 5, 31), datetime.date(2023, 3, 9), datetime.date(2023, 5, 9), datetime.date(2023, 8, 18), datetime.date(2023, 8, 10), datetime.date(2023, 6, 14), datetime.date(2023, 8, 9), datetime.date(2023, 8, 23), datetime.date(2023, 4, 4), datetime.date(2023, 5, 4), datetime.date(2023, 3, 29), datetime.date(2023, 7, 10), datetime.date(2023, 1, 6), datetime.date(2023, 5, 31), datetime.date(2023, 1, 6), datetime.date(2023, 8, 21), datetime.date(2023, 4, 27), datetime.date(2023, 1, 25), datetime.date(2023, 4, 11), datetime.date(2023, 3, 14), datetime.date(2023, 6, 7), datetime.date(2023, 7, 31), datetime.date(2023, 8, 7), datetime.date(2023, 2, 10), datetime.date(2023, 8, 25), datetime.date(2023, 2, 21), datetime.date(2023, 3, 17), datetime.date(2023, 6, 12), datetime.date(2023, 3, 13), datetime.date(2023, 5, 23), datetime.date(2023, 6, 3), datetime.date(2023, 6, 23), datetime.date(2023, 5, 22), datetime.date(2023, 6, 22), datetime.date(2023, 6, 6), datetime.date(2023, 4, 24), datetime.date(2023, 4, 20), datetime.date(2023, 5, 5), datetime.date(2023, 5, 17), datetime.date(2023, 5, 12), datetime.date(2023, 5, 13), datetime.date(2023, 6, 8), datetime.date(2023, 5, 16), datetime.date(2023, 8, 22), datetime.date(2023, 8, 2), datetime.date(2023, 8, 1), datetime.date(2023, 6, 28), datetime.date(2023, 6, 26), datetime.date(2023, 7, 3), datetime.date(2023, 7, 28), datetime.date(2023, 7, 4), datetime.date(2023, 8, 21), datetime.date(2023, 8, 25), datetime.date(2023, 4, 6), datetime.date(2023, 8, 11), datetime.date(2023, 8, 25), datetime.date(2023, 5, 4), datetime.date(2022, 5, 16)]\n"
     ]
    }
   ],
   "source": [
    "print(login)"
   ]
  },
  {
   "cell_type": "code",
   "execution_count": 103,
   "metadata": {},
   "outputs": [
    {
     "name": "stdout",
     "output_type": "stream",
     "text": [
      "['abishek.kunduru@anblicks.com', 'bharath.rudra@anblicks.com', 'mounika.koduru@anblicks.com', 'sireesha.alavala@anblicks.com', 'manasa.jonnadula@anblicks.com', 'it@anblicks.com', 'geetanjali.dash@anblicks.com', 'nikunj.ranpura@anblicks.com', 'abhilash.p@anblicks.com', 'abhishek.makhija@anblicks.com', 'lalitha.nasina@anblicks.com', 'deepika.mudiyala@anblicks.com', 'surender.thanneeru@anblicks.com', 'shravani.bathula@anblicks.com', 'saeeda.rushnaiwala@anblicks.com', 'saisrinivas.chinta@anblicks.com', 'dhaval.raval@anblicks.com', 'aashutosh.makwana@anblicks.com', 'devang.patel@anblicks.com', 'gaurav.patel@anblicks.com', 'chintan.mehta@anblicks.com', 'vijay.makwana@anblicks.com', 'samir.bhatt@anblicks.com', 'pranshu.joshi@anblicks.com', 'kotapati.saitha@anblicks.com', 'pavani.pasupulati@anblicks.com', 'rehman.shaik@anblicks.com', 'rasi.konatham@anblicks.com', 'srisai.maddukuri@anblicks.com', 'manoj.kumar@anblicks.com', 'vinay.gundavaram@anblicks.com', 'akhila.madduri@anblicks.com', 'raj.sindal@anblicks.com', 'harsh.patel@anblicks.com', 'purvesh.kachhiya@anblicks.com', 'prapti.patel@anblicks.com', 'naresh.chillur@anblicks.com', 'mitesh.gajjar@anblicks.com', 'krunal.rami@anblicks.com', 'sagar.katariya@anblicks.com', 'durgavikesh.pulapa@anblicks.com', 'sajja.ratnasravya@anblicks.com', 'saisyam.dampuri@anblicks.com', 'rushika.shah@anblicks.com', 'hardik.sanghani@anblicks.com', 'munwar@anblicks.com', 'saikiran.p@anblicks.com', 'rithesh.gummerla@anblicks.com', 'nagaarvind.adari@anblicks.com', 'Kenneth.Harper@DATALINKSOFTWARE.COM', 'Logan.Galler@datalinksoftware.com', 'John.Hargett@datalinksoftware.com', 'Vinay.Beeravolu@datalinksoftware.com', 'abhinav.chelluri@anblicks.com', 'dhamodharan.balamani@anblicks.com', 'bansilal.keloth@anblicks.com', 'tejaswini.kolla@anblicks.com', 'manohar.gajengi@anblicks.com', 'ankit.patel@anblicks.com', 'gowtham.voruganti@anblicks.com', 'sravan.m@anblicks.com', 'sudharani.b@anblicks.com', 'deepthi.rayapati@anblicks.com', 'vasanth.kandagatla@anblicks.com', 'ganeshcharan.p@anblicks.com', 'harsha.nadendla@anblicks.com', 'haribabu.thamatam@anblicks.com', 'rahul.ojha@anblicks.com', 'rajasekharreddy.g@anblicks.com', 'nilesh.jain@anblicks.com', 'ramesh.talamala@anblicks.com', 'lokeshwar.chankapure@anblicks.com', 'shiva.nallavelli@anblicks.com', 'lance.lugo@datalinksoftware.com', 'santosh.yadav@anblicks.com', 'ronak.padhya@anblicks.com', 'nitya.sripati@anblicks.com', 'madhumitha.kuna@anblicks.com', 'akhila.siripurapu@anblicks.com', 'vishvak.tatineni@anblicks.com', 'vijay.diwakar@anblicks.com', 'pavan.muniganti@anblicks.com', 'nishant.shah@anblicks.com', 'jaimin.patel@anblicks.com', 'raja.seeni@anblicks.com', 'sandeep.nidumukkala@anblicks.com', 'divya.matsa@anblicks.com', 'praveenkumar.macha@anblicks.com', 'uhapriya.akunuri@anblicks.com', 'kiran.kumar@anblicks.com']\n"
     ]
    }
   ],
   "source": [
    "print(email)"
   ]
  },
  {
   "cell_type": "code",
   "execution_count": 104,
   "metadata": {},
   "outputs": [
    {
     "data": {
      "text/plain": [
       "90"
      ]
     },
     "execution_count": 104,
     "metadata": {},
     "output_type": "execute_result"
    }
   ],
   "source": [
    "len(email)"
   ]
  },
  {
   "cell_type": "code",
   "execution_count": 105,
   "metadata": {},
   "outputs": [],
   "source": [
    "user_email=[]\n",
    "\n",
    "for i in email:\n",
    "    user_email.append(i)\n",
    "df_empl = pd.DataFrame(user_email, columns = ['session_user'])"
   ]
  },
  {
   "cell_type": "code",
   "execution_count": 106,
   "metadata": {},
   "outputs": [
    {
     "data": {
      "text/html": [
       "<div>\n",
       "<style scoped>\n",
       "    .dataframe tbody tr th:only-of-type {\n",
       "        vertical-align: middle;\n",
       "    }\n",
       "\n",
       "    .dataframe tbody tr th {\n",
       "        vertical-align: top;\n",
       "    }\n",
       "\n",
       "    .dataframe thead th {\n",
       "        text-align: right;\n",
       "    }\n",
       "</style>\n",
       "<table border=\"1\" class=\"dataframe\">\n",
       "  <thead>\n",
       "    <tr style=\"text-align: right;\">\n",
       "      <th></th>\n",
       "      <th>session_user</th>\n",
       "    </tr>\n",
       "  </thead>\n",
       "  <tbody>\n",
       "    <tr>\n",
       "      <th>0</th>\n",
       "      <td>abishek.kunduru@anblicks.com</td>\n",
       "    </tr>\n",
       "    <tr>\n",
       "      <th>1</th>\n",
       "      <td>bharath.rudra@anblicks.com</td>\n",
       "    </tr>\n",
       "    <tr>\n",
       "      <th>2</th>\n",
       "      <td>mounika.koduru@anblicks.com</td>\n",
       "    </tr>\n",
       "    <tr>\n",
       "      <th>3</th>\n",
       "      <td>sireesha.alavala@anblicks.com</td>\n",
       "    </tr>\n",
       "    <tr>\n",
       "      <th>4</th>\n",
       "      <td>manasa.jonnadula@anblicks.com</td>\n",
       "    </tr>\n",
       "    <tr>\n",
       "      <th>...</th>\n",
       "      <td>...</td>\n",
       "    </tr>\n",
       "    <tr>\n",
       "      <th>85</th>\n",
       "      <td>sandeep.nidumukkala@anblicks.com</td>\n",
       "    </tr>\n",
       "    <tr>\n",
       "      <th>86</th>\n",
       "      <td>divya.matsa@anblicks.com</td>\n",
       "    </tr>\n",
       "    <tr>\n",
       "      <th>87</th>\n",
       "      <td>praveenkumar.macha@anblicks.com</td>\n",
       "    </tr>\n",
       "    <tr>\n",
       "      <th>88</th>\n",
       "      <td>uhapriya.akunuri@anblicks.com</td>\n",
       "    </tr>\n",
       "    <tr>\n",
       "      <th>89</th>\n",
       "      <td>kiran.kumar@anblicks.com</td>\n",
       "    </tr>\n",
       "  </tbody>\n",
       "</table>\n",
       "<p>90 rows × 1 columns</p>\n",
       "</div>"
      ],
      "text/plain": [
       "                        session_user\n",
       "0       abishek.kunduru@anblicks.com\n",
       "1         bharath.rudra@anblicks.com\n",
       "2        mounika.koduru@anblicks.com\n",
       "3      sireesha.alavala@anblicks.com\n",
       "4      manasa.jonnadula@anblicks.com\n",
       "..                               ...\n",
       "85  sandeep.nidumukkala@anblicks.com\n",
       "86          divya.matsa@anblicks.com\n",
       "87   praveenkumar.macha@anblicks.com\n",
       "88     uhapriya.akunuri@anblicks.com\n",
       "89          kiran.kumar@anblicks.com\n",
       "\n",
       "[90 rows x 1 columns]"
      ]
     },
     "execution_count": 106,
     "metadata": {},
     "output_type": "execute_result"
    }
   ],
   "source": [
    "df_empl"
   ]
  },
  {
   "cell_type": "code",
   "execution_count": 107,
   "metadata": {},
   "outputs": [],
   "source": [
    "# def generate_app_logs (n_users, n_days_ago, random_state):\n",
    "\n",
    "#     np.random.seed(random_state)\n",
    "#     #fake = Faker()\n",
    "#     #Faker.seed(faker_state)\n",
    "#     today = pd.Timestamp(datetime.now().date())\n",
    "\n",
    "#     employee_list = []\n",
    "#     app_list = []\n",
    "\n",
    "#     for user in range(1, n_users):\n",
    "#         for i in user_email:\n",
    "        \n",
    "#             has_leaved_company = np.random.uniform (0,100)\n",
    "#             if (has_leaved_company < 5): #Generate 5% people leaving the company \n",
    "#                 last_day_work_days = np.random.uniform (0, n_days_ago)\n",
    "#                 field_last_work_day = today - timedelta (days = day)\n",
    "#             else:\n",
    "#                 last_day_work_days = 0\n",
    "#                 field_last_work_day = today + timedelta (days = 365) # set to the future for now\n",
    "            \n",
    "#             n_logings = int(np.random.uniform (0, n_days_ago - last_day_work_days))  # Between never logging and every day\n",
    "            \n",
    "#             for l in range (0, n_logings):\n",
    "#                 day = np.random.uniform(0, n_days_ago) # get a ramdom day\n",
    "                \n",
    "#                 ## Let´s introduce some users who do not log in thet last 30 days\n",
    "#                 not_loggin = np.random.uniform (0,100)\n",
    "#                 if (not_loggin < 25):\n",
    "#                     login_day = today - timedelta (days = day + last_day_work_days + 50)\n",
    "#                 else:\n",
    "#                     login_day = today - timedelta (days = day + last_day_work_days)\n",
    "#                 app_list.append([user_email, login_day])\n",
    "                \n",
    "#             employee_list.append([i,field_last_work_day])\n",
    "        \n",
    "#     df_employes = pd.DataFrame(employee_list, columns = ['session_user', 'last_day_of_work'])\n",
    "#     df_apps = pd.DataFrame(app_list, columns = ['session_user', 'snapshot_datetime'])\n",
    "    \n",
    "#     return df_employes, df_apps\n",
    "\n"
   ]
  },
  {
   "cell_type": "code",
   "execution_count": 108,
   "metadata": {},
   "outputs": [],
   "source": [
    "# def generate_app_logs (n_users, n_days_ago,random_state):\n",
    "\n",
    "#     np.random.seed(random_state)\n",
    "#     #fake = Faker()\n",
    "#     #Faker.seed(faker_state)\n",
    "#     today = pd.Timestamp(datetime.now().date())\n",
    "\n",
    "#     employee_list = []\n",
    "#     app_list = []\n",
    "\n",
    "#     for user in range(1, n_users):\n",
    "#         for i in user_email:\n",
    "        \n",
    "#             has_leaved_company = np.random.uniform (0,100)\n",
    "#             if (has_leaved_company < 5): #Generate 5% people leaving the company \n",
    "#                 last_day_work_days = np.random.uniform (0, n_days_ago)\n",
    "#                 field_last_work_day = today - timedelta (days = day)\n",
    "#             else:\n",
    "#                 last_day_work_days = 0\n",
    "#                 field_last_work_day = today + timedelta (days = 365) # set to the future for now\n",
    "            \n",
    "#             n_logings = int(np.random.uniform (0, n_days_ago - last_day_work_days))  # Between never logging and every day\n",
    "            \n",
    "#             day=[]\n",
    "#             for l in range (0, n_logings):\n",
    "\n",
    "#                 for j in login:\n",
    "#                      #np.random.uniform(0, n_days_ago) # get a ramdom day\n",
    "#                     day.append(j)\n",
    "#                     ## Let´s introduce some users who do not log in thet last 30 days\n",
    "#                     not_loggin = today- timedelta(n_days_ago) \n",
    "#                     if (not_loggin < today):\n",
    "#                         login_day = today - timedelta (days = 30)\n",
    "#                     else:\n",
    "#                         login_day = today - timedelta (days = day+ last_day_work_days)\n",
    "#                     app_list.append([i, login_day])\n",
    "                \n",
    "#             employee_list.append([i,field_last_work_day])\n",
    "        \n",
    "#     df_employes = pd.DataFrame(employee_list, columns = ['session_user', 'last_day_of_work'])\n",
    "#     df_apps = pd.DataFrame(app_list, columns = ['session_user', 'snapshot_datetime'])\n",
    "    \n",
    "#     return df_employes, df_apps\n",
    "\n"
   ]
  },
  {
   "cell_type": "code",
   "execution_count": 109,
   "metadata": {},
   "outputs": [],
   "source": [
    "def generate_app_logs (n_users, n_days_ago, random_state):\n",
    "\n",
    "    np.random.seed(random_state)\n",
    "    #fake = Faker()\n",
    "    #Faker.seed(faker_state)\n",
    "    today = pd.Timestamp(datetime.now().date())\n",
    "\n",
    "    employee_list = []\n",
    "    app_list = []\n",
    "\n",
    "    for user in range(1, n_users):\n",
    "        for i in user_email:\n",
    "        \n",
    "            has_leaved_company = np.random.uniform (0,100)\n",
    "            if (has_leaved_company < 5): #Generate 5% people leaving the company \n",
    "                last_day_work_days = np.random.uniform (0, n_days_ago)\n",
    "                field_last_work_day = today - timedelta (days = day)\n",
    "            else:\n",
    "                last_day_work_days = 0\n",
    "                field_last_work_day = today + timedelta (days = 365) # set to the future for now\n",
    "            \n",
    "            n_logings = int(np.random.uniform (0, n_days_ago - last_day_work_days))  # Between never logging and every day\n",
    "            \n",
    "            for l in range (0, n_logings):\n",
    "                day = np.random.uniform(0, n_days_ago) # get a ramdom day\n",
    "                \n",
    "                ## Let´s introduce some users who do not log in thet last 30 days\n",
    "                not_loggin = np.random.uniform (0,100)\n",
    "                if (not_loggin < 25):\n",
    "                    login_day = today - timedelta (days = day + last_day_work_days + 50)\n",
    "                else:\n",
    "                    login_day = today - timedelta (days = day + last_day_work_days)\n",
    "                app_list.append([i, login_day])\n",
    "                \n",
    "            employee_list.append([i,field_last_work_day])\n",
    "        \n",
    "    df_employes = pd.DataFrame(employee_list, columns = ['session_user', 'last_day_of_work'])\n",
    "    df_apps = pd.DataFrame(app_list, columns = ['session_user', 'snapshot_datetime'])\n",
    "    \n",
    "    return df_employes, df_apps\n",
    "\n"
   ]
  },
  {
   "cell_type": "code",
   "execution_count": 110,
   "metadata": {},
   "outputs": [
    {
     "data": {
      "text/html": [
       "<div>\n",
       "<style scoped>\n",
       "    .dataframe tbody tr th:only-of-type {\n",
       "        vertical-align: middle;\n",
       "    }\n",
       "\n",
       "    .dataframe tbody tr th {\n",
       "        vertical-align: top;\n",
       "    }\n",
       "\n",
       "    .dataframe thead th {\n",
       "        text-align: right;\n",
       "    }\n",
       "</style>\n",
       "<table border=\"1\" class=\"dataframe\">\n",
       "  <thead>\n",
       "    <tr style=\"text-align: right;\">\n",
       "      <th></th>\n",
       "      <th>session_user</th>\n",
       "      <th>snapshot_datetime</th>\n",
       "    </tr>\n",
       "  </thead>\n",
       "  <tbody>\n",
       "    <tr>\n",
       "      <th>0</th>\n",
       "      <td>abishek.kunduru@anblicks.com</td>\n",
       "      <td>2022-09-19 06:01:58.375248</td>\n",
       "    </tr>\n",
       "    <tr>\n",
       "      <th>1</th>\n",
       "      <td>abishek.kunduru@anblicks.com</td>\n",
       "      <td>2023-07-26 16:55:38.941539</td>\n",
       "    </tr>\n",
       "    <tr>\n",
       "      <th>2</th>\n",
       "      <td>abishek.kunduru@anblicks.com</td>\n",
       "      <td>2023-02-22 14:47:59.665887</td>\n",
       "    </tr>\n",
       "    <tr>\n",
       "      <th>3</th>\n",
       "      <td>abishek.kunduru@anblicks.com</td>\n",
       "      <td>2023-05-04 13:49:38.065316</td>\n",
       "    </tr>\n",
       "    <tr>\n",
       "      <th>4</th>\n",
       "      <td>abishek.kunduru@anblicks.com</td>\n",
       "      <td>2023-03-28 01:52:51.986231</td>\n",
       "    </tr>\n",
       "    <tr>\n",
       "      <th>...</th>\n",
       "      <td>...</td>\n",
       "      <td>...</td>\n",
       "    </tr>\n",
       "    <tr>\n",
       "      <th>65696</th>\n",
       "      <td>kiran.kumar@anblicks.com</td>\n",
       "      <td>2022-11-03 17:45:49.126692</td>\n",
       "    </tr>\n",
       "    <tr>\n",
       "      <th>65697</th>\n",
       "      <td>kiran.kumar@anblicks.com</td>\n",
       "      <td>2023-07-10 02:32:45.069220</td>\n",
       "    </tr>\n",
       "    <tr>\n",
       "      <th>65698</th>\n",
       "      <td>kiran.kumar@anblicks.com</td>\n",
       "      <td>2023-05-25 15:27:23.423118</td>\n",
       "    </tr>\n",
       "    <tr>\n",
       "      <th>65699</th>\n",
       "      <td>kiran.kumar@anblicks.com</td>\n",
       "      <td>2022-11-26 21:31:59.447671</td>\n",
       "    </tr>\n",
       "    <tr>\n",
       "      <th>65700</th>\n",
       "      <td>kiran.kumar@anblicks.com</td>\n",
       "      <td>2022-11-24 21:33:49.076126</td>\n",
       "    </tr>\n",
       "  </tbody>\n",
       "</table>\n",
       "<p>65701 rows × 2 columns</p>\n",
       "</div>"
      ],
      "text/plain": [
       "                       session_user          snapshot_datetime\n",
       "0      abishek.kunduru@anblicks.com 2022-09-19 06:01:58.375248\n",
       "1      abishek.kunduru@anblicks.com 2023-07-26 16:55:38.941539\n",
       "2      abishek.kunduru@anblicks.com 2023-02-22 14:47:59.665887\n",
       "3      abishek.kunduru@anblicks.com 2023-05-04 13:49:38.065316\n",
       "4      abishek.kunduru@anblicks.com 2023-03-28 01:52:51.986231\n",
       "...                             ...                        ...\n",
       "65696      kiran.kumar@anblicks.com 2022-11-03 17:45:49.126692\n",
       "65697      kiran.kumar@anblicks.com 2023-07-10 02:32:45.069220\n",
       "65698      kiran.kumar@anblicks.com 2023-05-25 15:27:23.423118\n",
       "65699      kiran.kumar@anblicks.com 2022-11-26 21:31:59.447671\n",
       "65700      kiran.kumar@anblicks.com 2022-11-24 21:33:49.076126\n",
       "\n",
       "[65701 rows x 2 columns]"
      ]
     },
     "execution_count": 110,
     "metadata": {},
     "output_type": "execute_result"
    }
   ],
   "source": [
    "df_employes"
   ]
  },
  {
   "cell_type": "code",
   "execution_count": 111,
   "metadata": {},
   "outputs": [],
   "source": [
    "#df_apps"
   ]
  },
  {
   "cell_type": "markdown",
   "metadata": {},
   "source": [
    "Create files in local file system in CSV format just for referece, as we will be writing those into Snowflake tables later\n"
   ]
  },
  {
   "cell_type": "code",
   "execution_count": 112,
   "metadata": {},
   "outputs": [],
   "source": [
    "\n",
    "df_app_1, df_employes = generate_app_logs (n_users=5, n_days_ago =365, random_state= 6)"
   ]
  },
  {
   "cell_type": "code",
   "execution_count": 113,
   "metadata": {},
   "outputs": [],
   "source": [
    "df_app_1.to_csv('../../data1/sample_okta_logs.csv', index=False )"
   ]
  },
  {
   "cell_type": "code",
   "execution_count": 114,
   "metadata": {},
   "outputs": [],
   "source": [
    "df_employes.to_csv('../../data1/sample_emp_metadata.csv', index=False)"
   ]
  },
  {
   "cell_type": "code",
   "execution_count": 115,
   "metadata": {},
   "outputs": [],
   "source": [
    "df_app_2, k = generate_app_logs (n_users=5, n_days_ago =365, random_state= 19)"
   ]
  },
  {
   "cell_type": "code",
   "execution_count": 116,
   "metadata": {},
   "outputs": [],
   "source": [
    "df_app_2.to_csv('../../data1/sample_app_logs.csv', index=False )"
   ]
  },
  {
   "cell_type": "code",
   "execution_count": 117,
   "metadata": {},
   "outputs": [],
   "source": [
    "def generate_working_days (n_days_ago = 365):\n",
    "    \n",
    "    today = pd.Timestamp(datetime.now().date())\n",
    "    \n",
    "    calendar_list = []\n",
    "    \n",
    "    for d in range(0, n_days_ago):    \n",
    "        calendar_day = today - timedelta (days = d)\n",
    "                \n",
    "        num = np.random.uniform (0,100)\n",
    "        if (num < 20): # 20% of holidays\n",
    "            is_working_day = 0\n",
    "        else:\n",
    "            is_working_day = 1\n",
    "        \n",
    "        calendar_list.append([calendar_day, is_working_day])\n",
    "        \n",
    "    \n",
    "    df_cal = pd.DataFrame(calendar_list, columns = ['snapshot_datetime', 'work_day'])\n",
    "    \n",
    "    return df_cal    "
   ]
  },
  {
   "cell_type": "code",
   "execution_count": 118,
   "metadata": {},
   "outputs": [],
   "source": [
    "df_cal = generate_working_days(n_days_ago = 365)"
   ]
  },
  {
   "cell_type": "code",
   "execution_count": 119,
   "metadata": {},
   "outputs": [
    {
     "data": {
      "text/html": [
       "<div>\n",
       "<style scoped>\n",
       "    .dataframe tbody tr th:only-of-type {\n",
       "        vertical-align: middle;\n",
       "    }\n",
       "\n",
       "    .dataframe tbody tr th {\n",
       "        vertical-align: top;\n",
       "    }\n",
       "\n",
       "    .dataframe thead th {\n",
       "        text-align: right;\n",
       "    }\n",
       "</style>\n",
       "<table border=\"1\" class=\"dataframe\">\n",
       "  <thead>\n",
       "    <tr style=\"text-align: right;\">\n",
       "      <th></th>\n",
       "      <th>snapshot_datetime</th>\n",
       "      <th>work_day</th>\n",
       "    </tr>\n",
       "  </thead>\n",
       "  <tbody>\n",
       "    <tr>\n",
       "      <th>0</th>\n",
       "      <td>2023-09-04</td>\n",
       "      <td>1</td>\n",
       "    </tr>\n",
       "    <tr>\n",
       "      <th>1</th>\n",
       "      <td>2023-09-03</td>\n",
       "      <td>1</td>\n",
       "    </tr>\n",
       "    <tr>\n",
       "      <th>2</th>\n",
       "      <td>2023-09-02</td>\n",
       "      <td>1</td>\n",
       "    </tr>\n",
       "    <tr>\n",
       "      <th>3</th>\n",
       "      <td>2023-09-01</td>\n",
       "      <td>1</td>\n",
       "    </tr>\n",
       "    <tr>\n",
       "      <th>4</th>\n",
       "      <td>2023-08-31</td>\n",
       "      <td>0</td>\n",
       "    </tr>\n",
       "    <tr>\n",
       "      <th>...</th>\n",
       "      <td>...</td>\n",
       "      <td>...</td>\n",
       "    </tr>\n",
       "    <tr>\n",
       "      <th>360</th>\n",
       "      <td>2022-09-09</td>\n",
       "      <td>1</td>\n",
       "    </tr>\n",
       "    <tr>\n",
       "      <th>361</th>\n",
       "      <td>2022-09-08</td>\n",
       "      <td>1</td>\n",
       "    </tr>\n",
       "    <tr>\n",
       "      <th>362</th>\n",
       "      <td>2022-09-07</td>\n",
       "      <td>0</td>\n",
       "    </tr>\n",
       "    <tr>\n",
       "      <th>363</th>\n",
       "      <td>2022-09-06</td>\n",
       "      <td>1</td>\n",
       "    </tr>\n",
       "    <tr>\n",
       "      <th>364</th>\n",
       "      <td>2022-09-05</td>\n",
       "      <td>1</td>\n",
       "    </tr>\n",
       "  </tbody>\n",
       "</table>\n",
       "<p>365 rows × 2 columns</p>\n",
       "</div>"
      ],
      "text/plain": [
       "    snapshot_datetime  work_day\n",
       "0          2023-09-04         1\n",
       "1          2023-09-03         1\n",
       "2          2023-09-02         1\n",
       "3          2023-09-01         1\n",
       "4          2023-08-31         0\n",
       "..                ...       ...\n",
       "360        2022-09-09         1\n",
       "361        2022-09-08         1\n",
       "362        2022-09-07         0\n",
       "363        2022-09-06         1\n",
       "364        2022-09-05         1\n",
       "\n",
       "[365 rows x 2 columns]"
      ]
     },
     "execution_count": 119,
     "metadata": {},
     "output_type": "execute_result"
    }
   ],
   "source": [
    "df_cal"
   ]
  },
  {
   "cell_type": "code",
   "execution_count": 120,
   "metadata": {},
   "outputs": [],
   "source": [
    "df_cal.to_csv('../../data1/sample_work_days.csv', index=False)"
   ]
  },
  {
   "cell_type": "markdown",
   "metadata": {},
   "source": [
    "Generate tables"
   ]
  },
  {
   "cell_type": "code",
   "execution_count": 121,
   "metadata": {},
   "outputs": [],
   "source": [
    "from snowflake.snowpark.session import Session\n",
    "import snowflake.snowpark.functions as F\n",
    "import snowflake.snowpark.types as T"
   ]
  },
  {
   "cell_type": "code",
   "execution_count": 122,
   "metadata": {},
   "outputs": [],
   "source": [
    "with open('../../config/creds.json', 'r') as ff:\n",
    "    conn_param=json.load(ff)\n",
    "\n",
    "session = Session.builder.configs(conn_param).create() "
   ]
  },
  {
   "cell_type": "code",
   "execution_count": 123,
   "metadata": {},
   "outputs": [],
   "source": [
    "session.sql(\"create or replace database dev_snowpatrol\").collect()\n",
    "session.sql(\"create or replace schema DEVOPS_SCHEMA\").collect()\n",
    "\n",
    "session.use_database(\"dev_snowpatrol\")\n",
    "session.use_schema(\"dev_snowpatrol.DEVOPS_SCHEMA\")"
   ]
  },
  {
   "cell_type": "code",
   "execution_count": 124,
   "metadata": {},
   "outputs": [
    {
     "data": {
      "text/plain": [
       "<snowflake.snowpark.table.Table at 0x173eb5b63e0>"
      ]
     },
     "execution_count": 124,
     "metadata": {},
     "output_type": "execute_result"
    }
   ],
   "source": [
    "df = pd.read_csv('../../data1/sample_okta_logs.csv')\n",
    "df.columns = df.columns.str.upper()\n",
    "\n",
    "table_name = 'SAMPLE_OKTA_LOGS'\n",
    "\n",
    "session.write_pandas(df, table_name, auto_create_table=True)"
   ]
  },
  {
   "cell_type": "code",
   "execution_count": 125,
   "metadata": {},
   "outputs": [
    {
     "data": {
      "text/html": [
       "<div>\n",
       "<style scoped>\n",
       "    .dataframe tbody tr th:only-of-type {\n",
       "        vertical-align: middle;\n",
       "    }\n",
       "\n",
       "    .dataframe tbody tr th {\n",
       "        vertical-align: top;\n",
       "    }\n",
       "\n",
       "    .dataframe thead th {\n",
       "        text-align: right;\n",
       "    }\n",
       "</style>\n",
       "<table border=\"1\" class=\"dataframe\">\n",
       "  <thead>\n",
       "    <tr style=\"text-align: right;\">\n",
       "      <th></th>\n",
       "      <th>SESSION_USER</th>\n",
       "      <th>LAST_DAY_OF_WORK</th>\n",
       "    </tr>\n",
       "  </thead>\n",
       "  <tbody>\n",
       "    <tr>\n",
       "      <th>0</th>\n",
       "      <td>abishek.kunduru@anblicks.com</td>\n",
       "      <td>2024-09-03 00:00:00.000000</td>\n",
       "    </tr>\n",
       "    <tr>\n",
       "      <th>1</th>\n",
       "      <td>bharath.rudra@anblicks.com</td>\n",
       "      <td>2024-09-03 00:00:00.000000</td>\n",
       "    </tr>\n",
       "    <tr>\n",
       "      <th>2</th>\n",
       "      <td>mounika.koduru@anblicks.com</td>\n",
       "      <td>2024-09-03 00:00:00.000000</td>\n",
       "    </tr>\n",
       "    <tr>\n",
       "      <th>3</th>\n",
       "      <td>sireesha.alavala@anblicks.com</td>\n",
       "      <td>2024-09-03 00:00:00.000000</td>\n",
       "    </tr>\n",
       "    <tr>\n",
       "      <th>4</th>\n",
       "      <td>manasa.jonnadula@anblicks.com</td>\n",
       "      <td>2024-09-03 00:00:00.000000</td>\n",
       "    </tr>\n",
       "    <tr>\n",
       "      <th>...</th>\n",
       "      <td>...</td>\n",
       "      <td>...</td>\n",
       "    </tr>\n",
       "    <tr>\n",
       "      <th>355</th>\n",
       "      <td>sandeep.nidumukkala@anblicks.com</td>\n",
       "      <td>2024-09-03 00:00:00.000000</td>\n",
       "    </tr>\n",
       "    <tr>\n",
       "      <th>356</th>\n",
       "      <td>divya.matsa@anblicks.com</td>\n",
       "      <td>2024-09-03 00:00:00.000000</td>\n",
       "    </tr>\n",
       "    <tr>\n",
       "      <th>357</th>\n",
       "      <td>praveenkumar.macha@anblicks.com</td>\n",
       "      <td>2024-09-03 00:00:00.000000</td>\n",
       "    </tr>\n",
       "    <tr>\n",
       "      <th>358</th>\n",
       "      <td>uhapriya.akunuri@anblicks.com</td>\n",
       "      <td>2024-09-03 00:00:00.000000</td>\n",
       "    </tr>\n",
       "    <tr>\n",
       "      <th>359</th>\n",
       "      <td>kiran.kumar@anblicks.com</td>\n",
       "      <td>2024-09-03 00:00:00.000000</td>\n",
       "    </tr>\n",
       "  </tbody>\n",
       "</table>\n",
       "<p>360 rows × 2 columns</p>\n",
       "</div>"
      ],
      "text/plain": [
       "                         SESSION_USER            LAST_DAY_OF_WORK\n",
       "0        abishek.kunduru@anblicks.com  2024-09-03 00:00:00.000000\n",
       "1          bharath.rudra@anblicks.com  2024-09-03 00:00:00.000000\n",
       "2         mounika.koduru@anblicks.com  2024-09-03 00:00:00.000000\n",
       "3       sireesha.alavala@anblicks.com  2024-09-03 00:00:00.000000\n",
       "4       manasa.jonnadula@anblicks.com  2024-09-03 00:00:00.000000\n",
       "..                                ...                         ...\n",
       "355  sandeep.nidumukkala@anblicks.com  2024-09-03 00:00:00.000000\n",
       "356          divya.matsa@anblicks.com  2024-09-03 00:00:00.000000\n",
       "357   praveenkumar.macha@anblicks.com  2024-09-03 00:00:00.000000\n",
       "358     uhapriya.akunuri@anblicks.com  2024-09-03 00:00:00.000000\n",
       "359          kiran.kumar@anblicks.com  2024-09-03 00:00:00.000000\n",
       "\n",
       "[360 rows x 2 columns]"
      ]
     },
     "execution_count": 125,
     "metadata": {},
     "output_type": "execute_result"
    }
   ],
   "source": [
    "df"
   ]
  },
  {
   "cell_type": "code",
   "execution_count": 126,
   "metadata": {},
   "outputs": [
    {
     "data": {
      "text/plain": [
       "<snowflake.snowpark.table.Table at 0x173eb9b4ca0>"
      ]
     },
     "execution_count": 126,
     "metadata": {},
     "output_type": "execute_result"
    }
   ],
   "source": [
    "df = pd.read_csv('../../data1/sample_work_days.csv')\n",
    "df.columns = df.columns.str.upper()\n",
    "\n",
    "table_name = 'SAMPLE_WORK_DAYS'\n",
    "\n",
    "session.write_pandas(df, table_name, auto_create_table=True)"
   ]
  },
  {
   "cell_type": "code",
   "execution_count": 127,
   "metadata": {},
   "outputs": [
    {
     "data": {
      "text/plain": [
       "<snowflake.snowpark.table.Table at 0x173eb835bd0>"
      ]
     },
     "execution_count": 127,
     "metadata": {},
     "output_type": "execute_result"
    }
   ],
   "source": [
    "df = pd.read_csv('../../data1/sample_app_logs.csv')\n",
    "df.columns = df.columns.str.upper()\n",
    "\n",
    "table_name = 'SAMPLE_APP_LOGS'\n",
    "\n",
    "session.write_pandas(df, table_name, auto_create_table=True)"
   ]
  },
  {
   "cell_type": "code",
   "execution_count": 128,
   "metadata": {},
   "outputs": [
    {
     "data": {
      "text/plain": [
       "<snowflake.snowpark.table.Table at 0x173e95372e0>"
      ]
     },
     "execution_count": 128,
     "metadata": {},
     "output_type": "execute_result"
    }
   ],
   "source": [
    "df = pd.read_csv('../../data1/generated/sample_emp_metadata.csv')\n",
    "df.columns = df.columns.str.upper()\n",
    "\n",
    "table_name = 'SAMPLE_EMP_METADATA'\n",
    "\n",
    "session.write_pandas(df, table_name, auto_create_table=True)"
   ]
  },
  {
   "cell_type": "code",
   "execution_count": null,
   "metadata": {},
   "outputs": [],
   "source": []
  },
  {
   "cell_type": "code",
   "execution_count": null,
   "metadata": {},
   "outputs": [],
   "source": []
  },
  {
   "cell_type": "code",
   "execution_count": null,
   "metadata": {},
   "outputs": [],
   "source": []
  }
 ],
 "metadata": {
  "kernelspec": {
   "display_name": "Python 3 (ipykernel)",
   "language": "python",
   "name": "python3"
  },
  "language_info": {
   "codemirror_mode": {
    "name": "ipython",
    "version": 3
   },
   "file_extension": ".py",
   "mimetype": "text/x-python",
   "name": "python",
   "nbconvert_exporter": "python",
   "pygments_lexer": "ipython3",
   "version": "3.10.3"
  }
 },
 "nbformat": 4,
 "nbformat_minor": 2
}
