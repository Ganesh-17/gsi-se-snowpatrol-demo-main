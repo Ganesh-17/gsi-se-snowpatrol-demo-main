{
 "cells": [
  {
   "attachments": {},
   "cell_type": "markdown",
   "id": "c0a66216",
   "metadata": {},
   "source": [
    "## Imports"
   ]
  },
  {
   "cell_type": "code",
   "execution_count": 24,
   "id": "a4262641",
   "metadata": {},
   "outputs": [
    {
     "name": "stdout",
     "output_type": "stream",
     "text": [
      "The autoreload extension is already loaded. To reload it, use:\n",
      "  %reload_ext autoreload\n"
     ]
    }
   ],
   "source": [
    "%load_ext autoreload\n",
    "%autoreload 2"
   ]
  },
  {
   "cell_type": "code",
   "execution_count": 25,
   "metadata": {},
   "outputs": [
    {
     "name": "stdout",
     "output_type": "stream",
     "text": [
      "Modules to reload:\n",
      "all-except-skipped\n",
      "\n",
      "Modules to skip:\n",
      "\n"
     ]
    }
   ],
   "source": [
    "%aimport"
   ]
  },
  {
   "cell_type": "code",
   "execution_count": 26,
   "id": "19d5e056-5096-473e-9ecd-1b7f56582122",
   "metadata": {
    "tags": []
   },
   "outputs": [],
   "source": [
    "import json\n",
    "from snowflake.snowpark.session import Session\n",
    "import snowflake.snowpark.functions as F\n",
    "import snowflake.snowpark.types as T\n",
    "from dotenv import find_dotenv\n",
    "from pathlib import Path\n",
    "import sys\n",
    "\n",
    "project_home = Path(find_dotenv()).parent\n",
    "sys.path.append(str(project_home))\n",
    "\n",
    "from constants import *\n"
   ]
  },
  {
   "attachments": {},
   "cell_type": "markdown",
   "id": "c198a317",
   "metadata": {},
   "source": [
    "## Data Pipline"
   ]
  },
  {
   "attachments": {},
   "cell_type": "markdown",
   "id": "4188b7f7",
   "metadata": {},
   "source": [
    "### Snowpark Session"
   ]
  },
  {
   "cell_type": "code",
   "execution_count": 27,
   "id": "9b14f766",
   "metadata": {},
   "outputs": [],
   "source": [
    "with open(project_home / 'config/creds.json', 'r') as ff:\n",
    "    conn_param=json.load(ff)\n",
    "\n",
    "session = Session.builder.configs(conn_param).create() \n"
   ]
  },
  {
   "attachments": {},
   "cell_type": "markdown",
   "id": "77f2cbd0",
   "metadata": {},
   "source": [
    "### Database, Schema & resource creation"
   ]
  },
  {
   "cell_type": "code",
   "execution_count": 28,
   "id": "dabbd4cd",
   "metadata": {},
   "outputs": [
    {
     "data": {
      "text/plain": [
       "[Row(status='FF_CSV_WITH_HEADER already exists, statement succeeded.')]"
      ]
     },
     "execution_count": 28,
     "metadata": {},
     "output_type": "execute_result"
    }
   ],
   "source": [
    "session.sql(f\"create database if not exists {SNOWPATROL_DB}\").collect()\n",
    "session.sql(f\"create schema if not exists {SNOWPATROL_DB}.{SNOWPATROL_SCHEMA}\").collect()\n",
    "session.sql(f\"create stage if not exists {SNOWPATROL_DB}.{SNOWPATROL_SCHEMA}.{DATA_STAGE}\").collect()\n",
    "session.sql(f\"create stage if not exists {SNOWPATROL_DB}.{SNOWPATROL_SCHEMA}.{DEPS_STAGE}\").collect()\n",
    "session.sql(f\"create stage if not exists {SNOWPATROL_DB}.{SNOWPATROL_SCHEMA}.{MODELS_STAGE}\").collect()\n",
    "session.sql(f\"create stage if not exists {SNOWPATROL_DB}.{SNOWPATROL_SCHEMA}.{OBJECT_STAGE}\").collect()\n",
    "\n",
    "# This File Format uses a special option available for CSV schema inference\n",
    "session.sql(f\"create file format if not exists {SNOWPATROL_DB}.{SNOWPATROL_SCHEMA}.ff_csv_with_header type=CSV parse_header=TRUE field_optionally_enclosed_by='\\\"'\").collect()"
   ]
  },
  {
   "attachments": {},
   "cell_type": "markdown",
   "id": "d05adae2",
   "metadata": {},
   "source": [
    "### Sample data upload"
   ]
  },
  {
   "cell_type": "code",
   "execution_count": 29,
   "id": "dfcb38b2",
   "metadata": {},
   "outputs": [
    {
     "data": {
      "text/plain": [
       "[Row(source='monitored_apps.csv', target='monitored_apps.csv.gz', source_size=45, target_size=80, source_compression='NONE', target_compression='GZIP', status='UPLOADED', message='')]"
      ]
     },
     "execution_count": 29,
     "metadata": {},
     "output_type": "execute_result"
    }
   ],
   "source": [
    "data_dir = project_home / \"data\" \n",
    "session.sql(f\"PUT file://{project_home}/data/obfuscated/* @{SNOWPATROL_DB}.{SNOWPATROL_SCHEMA}.{DATA_STAGE} overwrite=True auto_compress=True\").collect()\n",
    "session.sql(f\"PUT file://{project_home}/data/generated/whitelisted_users.csv @{SNOWPATROL_DB}.{SNOWPATROL_SCHEMA}.{DATA_STAGE} overwrite=True auto_compress=True\").collect()\n",
    "session.sql(f\"PUT file://{project_home}/data/generated/sample_okta_logs.csv @{SNOWPATROL_DB}.{SNOWPATROL_SCHEMA}.{DATA_STAGE} overwrite=True auto_compress=True\").collect()\n",
    "session.sql(f\"PUT file://{project_home}/data/generated/monitored_apps.csv @{SNOWPATROL_DB}.{SNOWPATROL_SCHEMA}.{DATA_STAGE} overwrite=True auto_compress=True\").collect()\n",
    "\n"
   ]
  },
  {
   "cell_type": "code",
   "execution_count": 30,
   "id": "c5189fbc",
   "metadata": {},
   "outputs": [
    {
     "data": {
      "text/plain": [
       "[Row(source='constants.py', target='constants.py', source_size=558, target_size=560, source_compression='NONE', target_compression='NONE', status='UPLOADED', message='')]"
      ]
     },
     "execution_count": 30,
     "metadata": {},
     "output_type": "execute_result"
    }
   ],
   "source": [
    "\n",
    "session.sql(f\"PUT file://{project_home}/src/python/snowpatrol/train.py @{SNOWPATROL_DB}.{SNOWPATROL_SCHEMA}.{DEPS_STAGE} overwrite=True auto_compress=False\").collect()\n",
    "session.sql(f\"PUT file://{project_home}/src/python/snowpatrol/constants.py @{SNOWPATROL_DB}.{SNOWPATROL_SCHEMA}.{DEPS_STAGE} overwrite=True auto_compress=False\").collect()"
   ]
  },
  {
   "attachments": {},
   "cell_type": "markdown",
   "id": "fc8ae9f0",
   "metadata": {},
   "source": [
    "### Table creation to hold source data - FP data\n",
    "\n",
    "> Note: Uses Schema detection on CSV"
   ]
  },
  {
   "cell_type": "code",
   "execution_count": 31,
   "id": "1bd03acf",
   "metadata": {},
   "outputs": [
    {
     "data": {
      "text/plain": [
       "[Row(status='WHITELISTED_USERS already exists, statement succeeded.')]"
      ]
     },
     "execution_count": 31,
     "metadata": {},
     "output_type": "execute_result"
    }
   ],
   "source": [
    "session.sql(\n",
    "    f\"\"\"\n",
    "    CREATE TABLE IF NOT EXISTS {SNOWPATROL_DB}.{SNOWPATROL_SCHEMA}.{TBL_MONITORED_APPS}\n",
    "    USING TEMPLATE (\n",
    "    SELECT ARRAY_AGG(OBJECT_CONSTRUCT(*))\n",
    "      FROM TABLE(\n",
    "        INFER_SCHEMA(\n",
    "          LOCATION=>'@{SNOWPATROL_DB}.{SNOWPATROL_SCHEMA}.{DATA_STAGE}/monitored_apps.csv',\n",
    "          FILE_FORMAT=>'snowpatrol.main.ff_csv_with_header',\n",
    "          IGNORE_CASE => TRUE\n",
    "        )\n",
    "      ))\n",
    "    \"\"\"\n",
    ").collect()\n",
    "\n",
    "session.sql(\n",
    "    f\"\"\"\n",
    "    CREATE TABLE IF NOT EXISTS {SNOWPATROL_DB}.{SNOWPATROL_SCHEMA}.{TBL_OKTA_USERS}\n",
    "    USING TEMPLATE (\n",
    "    SELECT ARRAY_AGG(OBJECT_CONSTRUCT(*))\n",
    "      FROM TABLE(\n",
    "        INFER_SCHEMA(\n",
    "          LOCATION=>'@{SNOWPATROL_DB}.{SNOWPATROL_SCHEMA}.{DATA_STAGE}/sample_okta_logs.csv',\n",
    "          FILE_FORMAT=>'snowpatrol.main.ff_csv_with_header',\n",
    "          IGNORE_CASE => TRUE\n",
    "        )\n",
    "      ))\n",
    "    \"\"\"\n",
    ").collect()\n",
    "\n",
    "session.sql(\n",
    "    f\"\"\"\n",
    "    CREATE TABLE IF NOT EXISTS {SNOWPATROL_DB}.{SNOWPATROL_SCHEMA}.{TBL_APP_LOGS}\n",
    "    USING TEMPLATE (\n",
    "    SELECT ARRAY_AGG(OBJECT_CONSTRUCT(*))\n",
    "      FROM TABLE(\n",
    "        INFER_SCHEMA(\n",
    "          LOCATION=>'@{SNOWPATROL_DB}.{SNOWPATROL_SCHEMA}.{DATA_STAGE}/SnowPatrol_validation_data_app1 _.csv',\n",
    "          FILE_FORMAT=>'snowpatrol.main.ff_csv_with_header',\n",
    "          IGNORE_CASE => TRUE\n",
    "        )\n",
    "      ))\n",
    "    \"\"\"\n",
    ").collect()\n",
    "\n",
    "session.sql(\n",
    "    f\"\"\"\n",
    "    CREATE TABLE IF NOT EXISTS {SNOWPATROL_DB}.{SNOWPATROL_SCHEMA}.{TBL_WORK_DAYS}\n",
    "    USING TEMPLATE (\n",
    "    SELECT ARRAY_AGG(OBJECT_CONSTRUCT(*))\n",
    "      FROM TABLE(\n",
    "        INFER_SCHEMA(\n",
    "          LOCATION=>'@{SNOWPATROL_DB}.{SNOWPATROL_SCHEMA}.{DATA_STAGE}/SnowPatrol_Working_Days.csv',\n",
    "          FILE_FORMAT=>'snowpatrol.main.ff_csv_with_header',\n",
    "          IGNORE_CASE => TRUE\n",
    "        )\n",
    "      ))\n",
    "    \"\"\"\n",
    ").collect()\n",
    "\n",
    "session.sql(\n",
    "    f\"\"\"\n",
    "    CREATE TABLE IF NOT EXISTS {SNOWPATROL_DB}.{SNOWPATROL_SCHEMA}.{TBL_EMPLOYEE_METADATA}\n",
    "    USING TEMPLATE (\n",
    "    SELECT ARRAY_AGG(OBJECT_CONSTRUCT(*))\n",
    "      FROM TABLE(\n",
    "        INFER_SCHEMA(\n",
    "          LOCATION=>'@{SNOWPATROL_DB}.{SNOWPATROL_SCHEMA}.{DATA_STAGE}/SnowPatrol_validation_emp_details_app1.csv',\n",
    "          FILE_FORMAT=>'snowpatrol.main.ff_csv_with_header',\n",
    "          IGNORE_CASE => TRUE\n",
    "        )\n",
    "      ))\n",
    "    \"\"\"\n",
    ").collect()\n",
    "\n",
    "session.sql(\n",
    "    f\"\"\"\n",
    "    CREATE TABLE IF NOT EXISTS {SNOWPATROL_DB}.{SNOWPATROL_SCHEMA}.{TBL_WHITELISTED_USERS}\n",
    "    USING TEMPLATE (\n",
    "    SELECT ARRAY_AGG(OBJECT_CONSTRUCT(*))\n",
    "      FROM TABLE(\n",
    "        INFER_SCHEMA(\n",
    "          LOCATION=>'@{SNOWPATROL_DB}.{SNOWPATROL_SCHEMA}.{DATA_STAGE}/whitelisted_users.csv',\n",
    "          FILE_FORMAT=>'snowpatrol.main.ff_csv_with_header',\n",
    "          IGNORE_CASE => TRUE\n",
    "        )\n",
    "      ))\n",
    "    \"\"\"\n",
    ").collect()\n",
    "\n",
    "\n"
   ]
  },
  {
   "attachments": {},
   "cell_type": "markdown",
   "id": "5995397e",
   "metadata": {},
   "source": [
    "### Copying data into respective source tables"
   ]
  },
  {
   "cell_type": "code",
   "execution_count": 32,
   "id": "f0fabc1c",
   "metadata": {},
   "outputs": [
    {
     "data": {
      "text/plain": [
       "[Row(file='data/whitelisted_users.csv.gz', status='LOADED', rows_parsed=1, rows_loaded=1, error_limit=1, errors_seen=0, first_error=None, first_error_line=None, first_error_character=None, first_error_column_name=None)]"
      ]
     },
     "execution_count": 32,
     "metadata": {},
     "output_type": "execute_result"
    }
   ],
   "source": [
    "session.sql(f\"TRUNCATE TABLE {SNOWPATROL_DB}.{SNOWPATROL_SCHEMA}.{TBL_MONITORED_APPS}\").collect()\n",
    "session.sql(\n",
    "    f\"\"\" \n",
    "    copy into {SNOWPATROL_DB}.{SNOWPATROL_SCHEMA}.{TBL_MONITORED_APPS}\n",
    "    from @{SNOWPATROL_DB}.{SNOWPATROL_SCHEMA}.{DATA_STAGE}\n",
    "    files = ('monitored_apps.csv.gz') \n",
    "    file_format = (type = CSV skip_header=1 field_optionally_enclosed_by='\"')\n",
    "\"\"\").collect()\n",
    "\n",
    "session.sql(f\"TRUNCATE TABLE {SNOWPATROL_DB}.{SNOWPATROL_SCHEMA}.{TBL_OKTA_USERS}\").collect()\n",
    "session.sql(\n",
    "    f\"\"\" \n",
    "    copy into {SNOWPATROL_DB}.{SNOWPATROL_SCHEMA}.{TBL_OKTA_USERS}\n",
    "    from @{SNOWPATROL_DB}.{SNOWPATROL_SCHEMA}.{DATA_STAGE}\n",
    "    files = ('sample_okta_logs.csv.gz') \n",
    "    file_format = (type = CSV skip_header=1 field_optionally_enclosed_by='\"')\n",
    "\"\"\").collect()\n",
    "\n",
    "session.sql(f\"TRUNCATE TABLE {SNOWPATROL_DB}.{SNOWPATROL_SCHEMA}.{TBL_APP_LOGS}\").collect()\n",
    "\n",
    "session.sql(\n",
    "    f\"\"\" \n",
    "    copy into {SNOWPATROL_DB}.{SNOWPATROL_SCHEMA}.{TBL_APP_LOGS}\n",
    "    from @{SNOWPATROL_DB}.{SNOWPATROL_SCHEMA}.{DATA_STAGE}\n",
    "    files = ('SnowPatrol_validation_data_app1 _.csv.gz', 'SnowPatrol_validation_data_app2 _.csv.gz','SnowPatrol_validation_data_app3 _.csv.gz')\n",
    "    file_format = (type = CSV skip_header=1 field_optionally_enclosed_by='\"')\n",
    "\"\"\").collect()\n",
    "\n",
    "# Sample work days table - company schedule of whether each day is a work day or not\n",
    "session.sql(f\"TRUNCATE TABLE {SNOWPATROL_DB}.{SNOWPATROL_SCHEMA}.{TBL_WORK_DAYS}\").collect()\n",
    "\n",
    "session.sql(\n",
    "    f\"\"\" \n",
    "    copy into {SNOWPATROL_DB}.{SNOWPATROL_SCHEMA}.{TBL_WORK_DAYS}\n",
    "    from @{SNOWPATROL_DB}.{SNOWPATROL_SCHEMA}.{DATA_STAGE}\n",
    "    files = ('SnowPatrol_Working_Days.csv.gz')\n",
    "    file_format = (type = CSV skip_header=1 field_optionally_enclosed_by='\"')\n",
    "\"\"\").collect()\n",
    "\n",
    "session.sql(f\"TRUNCATE TABLE {SNOWPATROL_DB}.{SNOWPATROL_SCHEMA}.{TBL_EMPLOYEE_METADATA}\").collect()\n",
    "\n",
    "session.sql(\n",
    "    f\"\"\" \n",
    "    copy into {SNOWPATROL_DB}.{SNOWPATROL_SCHEMA}.{TBL_EMPLOYEE_METADATA}\n",
    "    from @{SNOWPATROL_DB}.{SNOWPATROL_SCHEMA}.{DATA_STAGE}\n",
    "    files = ('SnowPatrol_validation_app2_emp_details.csv.gz', 'SnowPatrol_validation_emp_details_app1.csv.gz','SnowPatrol_validation_emp_details_app3.csv.gz')\n",
    "    file_format = (type = CSV skip_header=1 field_optionally_enclosed_by='\"')\n",
    "\"\"\").collect()\n",
    "\n",
    "session.sql(\n",
    "    f\"\"\" \n",
    "    copy into {SNOWPATROL_DB}.{SNOWPATROL_SCHEMA}.{TBL_WHITELISTED_USERS}\n",
    "    from @{SNOWPATROL_DB}.{SNOWPATROL_SCHEMA}.{DATA_STAGE}\n",
    "    files = ('whitelisted_users.csv.gz') \n",
    "    file_format = (type = CSV skip_header=1 field_optionally_enclosed_by='\"')\n",
    "\"\"\").collect()"
   ]
  },
  {
   "attachments": {},
   "cell_type": "markdown",
   "id": "29ab4816",
   "metadata": {},
   "source": [
    "### Local utility functions"
   ]
  },
  {
   "cell_type": "code",
   "execution_count": 33,
   "id": "7d07474a",
   "metadata": {},
   "outputs": [
    {
     "data": {
      "text/plain": [
       "<snowflake.snowpark.dataframe.DataFrame at 0x1c99f135ba0>"
      ]
     },
     "execution_count": 33,
     "metadata": {},
     "output_type": "execute_result"
    }
   ],
   "source": [
    "session.sql(\"use database SNOWPATROL_DB\")"
   ]
  },
  {
   "cell_type": "code",
   "execution_count": 34,
   "id": "0aa2b2a1",
   "metadata": {},
   "outputs": [
    {
     "ename": "SnowparkSQLException",
     "evalue": "(1304): 01ae83d1-3200-da5c-0005-d0a200013076: 090105 (22000): Cannot perform SELECT. This session does not have a current database. Call 'USE DATABASE', or use a qualified name.",
     "output_type": "error",
     "traceback": [
      "\u001b[1;31m---------------------------------------------------------------------------\u001b[0m",
      "\u001b[1;31mSnowparkSQLException\u001b[0m                      Traceback (most recent call last)",
      "Cell \u001b[1;32mIn[34], line 1\u001b[0m\n\u001b[1;32m----> 1\u001b[0m session\u001b[39m.\u001b[39;49mudf\u001b[39m.\u001b[39;49mregister_from_file(\n\u001b[0;32m      2\u001b[0m       file_path\u001b[39m=\u001b[39;49m\u001b[39m\"\u001b[39;49m\u001b[39mtrain.py\u001b[39;49m\u001b[39m\"\u001b[39;49m\n\u001b[0;32m      3\u001b[0m       , func_name\u001b[39m=\u001b[39;49m\u001b[39m\"\u001b[39;49m\u001b[39mcontains_anyof\u001b[39;49m\u001b[39m\"\u001b[39;49m\n\u001b[0;32m      4\u001b[0m       , name\u001b[39m=\u001b[39;49m\u001b[39mf\u001b[39;49m\u001b[39m\"\u001b[39;49m\u001b[39m{\u001b[39;49;00mSNOWPATROL_DB\u001b[39m}\u001b[39;49;00m\u001b[39m.\u001b[39;49m\u001b[39m{\u001b[39;49;00mSNOWPATROL_SCHEMA\u001b[39m}\u001b[39;49;00m\u001b[39m.udf_contains_anyof\u001b[39;49m\u001b[39m\"\u001b[39;49m\n\u001b[0;32m      5\u001b[0m       , is_permanent\u001b[39m=\u001b[39;49m\u001b[39mTrue\u001b[39;49;00m\n\u001b[0;32m      6\u001b[0m       , packages \u001b[39m=\u001b[39;49m [\u001b[39m\"\u001b[39;49m\u001b[39msnowflake-snowpark-python\u001b[39;49m\u001b[39m\"\u001b[39;49m]\n\u001b[0;32m      7\u001b[0m       , imports\u001b[39m=\u001b[39;49m[\u001b[39mf\u001b[39;49m\u001b[39m\"\u001b[39;49m\u001b[39m@\u001b[39;49m\u001b[39m{\u001b[39;49;00mSNOWPATROL_DB\u001b[39m}\u001b[39;49;00m\u001b[39m.\u001b[39;49m\u001b[39m{\u001b[39;49;00mSNOWPATROL_SCHEMA\u001b[39m}\u001b[39;49;00m\u001b[39m.\u001b[39;49m\u001b[39m{\u001b[39;49;00mDEPS_STAGE\u001b[39m}\u001b[39;49;00m\u001b[39m/constants.py\u001b[39;49m\u001b[39m\"\u001b[39;49m]\n\u001b[0;32m      8\u001b[0m       , stage_location\u001b[39m=\u001b[39;49m\u001b[39mf\u001b[39;49m\u001b[39m\"\u001b[39;49m\u001b[39m{\u001b[39;49;00mSNOWPATROL_DB\u001b[39m}\u001b[39;49;00m\u001b[39m.\u001b[39;49m\u001b[39m{\u001b[39;49;00mSNOWPATROL_SCHEMA\u001b[39m}\u001b[39;49;00m\u001b[39m.\u001b[39;49m\u001b[39m{\u001b[39;49;00mOBJECT_STAGE\u001b[39m}\u001b[39;49;00m\u001b[39m\"\u001b[39;49m\n\u001b[0;32m      9\u001b[0m       , replace\u001b[39m=\u001b[39;49m\u001b[39mTrue\u001b[39;49;00m\n\u001b[0;32m     10\u001b[0m )\n",
      "File \u001b[1;32mc:\\Users\\ganeshkasyap.movva\\AppData\\Local\\Programs\\Python\\Python310\\lib\\site-packages\\snowflake\\snowpark\\udf.py:728\u001b[0m, in \u001b[0;36mUDFRegistration.register_from_file\u001b[1;34m(self, file_path, func_name, return_type, input_types, name, is_permanent, stage_location, imports, packages, replace, if_not_exists, parallel, strict, secure, statement_params, source_code_display, skip_upload_on_content_match)\u001b[0m\n\u001b[0;32m    723\u001b[0m check_register_args(\n\u001b[0;32m    724\u001b[0m     TempObjectType\u001b[39m.\u001b[39mFUNCTION, name, is_permanent, stage_location, parallel\n\u001b[0;32m    725\u001b[0m )\n\u001b[0;32m    727\u001b[0m \u001b[39m# register udf\u001b[39;00m\n\u001b[1;32m--> 728\u001b[0m \u001b[39mreturn\u001b[39;00m \u001b[39mself\u001b[39;49m\u001b[39m.\u001b[39;49m_do_register_udf(\n\u001b[0;32m    729\u001b[0m     (file_path, func_name),\n\u001b[0;32m    730\u001b[0m     return_type,\n\u001b[0;32m    731\u001b[0m     input_types,\n\u001b[0;32m    732\u001b[0m     name,\n\u001b[0;32m    733\u001b[0m     stage_location,\n\u001b[0;32m    734\u001b[0m     imports,\n\u001b[0;32m    735\u001b[0m     packages,\n\u001b[0;32m    736\u001b[0m     replace,\n\u001b[0;32m    737\u001b[0m     if_not_exists,\n\u001b[0;32m    738\u001b[0m     parallel,\n\u001b[0;32m    739\u001b[0m     strict,\n\u001b[0;32m    740\u001b[0m     secure,\n\u001b[0;32m    741\u001b[0m     statement_params\u001b[39m=\u001b[39;49mstatement_params,\n\u001b[0;32m    742\u001b[0m     source_code_display\u001b[39m=\u001b[39;49msource_code_display,\n\u001b[0;32m    743\u001b[0m     api_call_source\u001b[39m=\u001b[39;49m\u001b[39m\"\u001b[39;49m\u001b[39mUDFRegistration.register_from_file\u001b[39;49m\u001b[39m\"\u001b[39;49m,\n\u001b[0;32m    744\u001b[0m     skip_upload_on_content_match\u001b[39m=\u001b[39;49mskip_upload_on_content_match,\n\u001b[0;32m    745\u001b[0m )\n",
      "File \u001b[1;32mc:\\Users\\ganeshkasyap.movva\\AppData\\Local\\Programs\\Python\\Python310\\lib\\site-packages\\snowflake\\snowpark\\udf.py:800\u001b[0m, in \u001b[0;36mUDFRegistration._do_register_udf\u001b[1;34m(self, func, return_type, input_types, name, stage_location, imports, packages, replace, if_not_exists, parallel, max_batch_size, from_pandas_udf_function, strict, secure, statement_params, source_code_display, api_call_source, skip_upload_on_content_match)\u001b[0m\n\u001b[0;32m    787\u001b[0m \u001b[39mif\u001b[39;00m from_pandas_udf_function \u001b[39mand\u001b[39;00m \u001b[39mnot\u001b[39;00m is_pandas_udf:\n\u001b[0;32m    788\u001b[0m     \u001b[39mraise\u001b[39;00m \u001b[39mValueError\u001b[39;00m(\n\u001b[0;32m    789\u001b[0m         \u001b[39m\"\u001b[39m\u001b[39mYou cannot create a non-vectorized UDF using pandas_udf(). \u001b[39m\u001b[39m\"\u001b[39m\n\u001b[0;32m    790\u001b[0m         \u001b[39m\"\u001b[39m\u001b[39mUse udf() instead.\u001b[39m\u001b[39m\"\u001b[39m\n\u001b[0;32m    791\u001b[0m     )\n\u001b[0;32m    793\u001b[0m (\n\u001b[0;32m    794\u001b[0m     handler,\n\u001b[0;32m    795\u001b[0m     code,\n\u001b[0;32m    796\u001b[0m     all_imports,\n\u001b[0;32m    797\u001b[0m     all_packages,\n\u001b[0;32m    798\u001b[0m     upload_file_stage_location,\n\u001b[0;32m    799\u001b[0m     custom_python_runtime_version_allowed,\n\u001b[1;32m--> 800\u001b[0m ) \u001b[39m=\u001b[39m resolve_imports_and_packages(\n\u001b[0;32m    801\u001b[0m     \u001b[39mself\u001b[39;49m\u001b[39m.\u001b[39;49m_session,\n\u001b[0;32m    802\u001b[0m     TempObjectType\u001b[39m.\u001b[39;49mFUNCTION,\n\u001b[0;32m    803\u001b[0m     func,\n\u001b[0;32m    804\u001b[0m     arg_names,\n\u001b[0;32m    805\u001b[0m     udf_name,\n\u001b[0;32m    806\u001b[0m     stage_location,\n\u001b[0;32m    807\u001b[0m     imports,\n\u001b[0;32m    808\u001b[0m     packages,\n\u001b[0;32m    809\u001b[0m     parallel,\n\u001b[0;32m    810\u001b[0m     is_pandas_udf,\n\u001b[0;32m    811\u001b[0m     is_dataframe_input,\n\u001b[0;32m    812\u001b[0m     max_batch_size,\n\u001b[0;32m    813\u001b[0m     statement_params\u001b[39m=\u001b[39;49mstatement_params,\n\u001b[0;32m    814\u001b[0m     source_code_display\u001b[39m=\u001b[39;49msource_code_display,\n\u001b[0;32m    815\u001b[0m     skip_upload_on_content_match\u001b[39m=\u001b[39;49mskip_upload_on_content_match,\n\u001b[0;32m    816\u001b[0m )\n\u001b[0;32m    818\u001b[0m \u001b[39mif\u001b[39;00m \u001b[39mnot\u001b[39;00m custom_python_runtime_version_allowed:\n\u001b[0;32m    819\u001b[0m     check_python_runtime_version(\n\u001b[0;32m    820\u001b[0m         \u001b[39mself\u001b[39m\u001b[39m.\u001b[39m_session\u001b[39m.\u001b[39m_runtime_version_from_requirement\n\u001b[0;32m    821\u001b[0m     )\n",
      "File \u001b[1;32mc:\\Users\\ganeshkasyap.movva\\AppData\\Local\\Programs\\Python\\Python310\\lib\\site-packages\\snowflake\\snowpark\\_internal\\udf_utils.py:812\u001b[0m, in \u001b[0;36mresolve_imports_and_packages\u001b[1;34m(session, object_type, func, arg_names, udf_name, stage_location, imports, packages, parallel, is_pandas_udf, is_dataframe_input, max_batch_size, statement_params, source_code_display, skip_upload_on_content_match)\u001b[0m\n\u001b[0;32m    804\u001b[0m upload_stage \u001b[39m=\u001b[39m (\n\u001b[0;32m    805\u001b[0m     unwrap_stage_location_single_quote(stage_location)\n\u001b[0;32m    806\u001b[0m     \u001b[39mif\u001b[39;00m stage_location\n\u001b[0;32m    807\u001b[0m     \u001b[39melse\u001b[39;00m session\u001b[39m.\u001b[39mget_session_stage()\n\u001b[0;32m    808\u001b[0m )\n\u001b[0;32m    810\u001b[0m \u001b[39m# resolve packages\u001b[39;00m\n\u001b[0;32m    811\u001b[0m resolved_packages \u001b[39m=\u001b[39m (\n\u001b[1;32m--> 812\u001b[0m     session\u001b[39m.\u001b[39;49m_resolve_packages(packages, include_pandas\u001b[39m=\u001b[39;49mis_pandas_udf)\n\u001b[0;32m    813\u001b[0m     \u001b[39mif\u001b[39;00m packages \u001b[39mis\u001b[39;00m \u001b[39mnot\u001b[39;00m \u001b[39mNone\u001b[39;00m\n\u001b[0;32m    814\u001b[0m     \u001b[39melse\u001b[39;00m session\u001b[39m.\u001b[39m_resolve_packages(\n\u001b[0;32m    815\u001b[0m         [],\n\u001b[0;32m    816\u001b[0m         session\u001b[39m.\u001b[39m_packages,\n\u001b[0;32m    817\u001b[0m         validate_package\u001b[39m=\u001b[39m\u001b[39mFalse\u001b[39;00m,\n\u001b[0;32m    818\u001b[0m         include_pandas\u001b[39m=\u001b[39mis_pandas_udf,\n\u001b[0;32m    819\u001b[0m     )\n\u001b[0;32m    820\u001b[0m )\n\u001b[0;32m    822\u001b[0m \u001b[39m# resolve imports\u001b[39;00m\n\u001b[0;32m    823\u001b[0m \u001b[39mif\u001b[39;00m imports:\n",
      "File \u001b[1;32mc:\\Users\\ganeshkasyap.movva\\AppData\\Local\\Programs\\Python\\Python310\\lib\\site-packages\\snowflake\\snowpark\\session.py:955\u001b[0m, in \u001b[0;36mSession._resolve_packages\u001b[1;34m(self, packages, existing_packages_dict, validate_package, include_pandas)\u001b[0m\n\u001b[0;32m    952\u001b[0m \u001b[39mif\u001b[39;00m \u001b[39mnot\u001b[39;00m \u001b[39mself\u001b[39m\u001b[39m.\u001b[39mget_current_database():\n\u001b[0;32m    953\u001b[0m     package_table \u001b[39m=\u001b[39m \u001b[39mf\u001b[39m\u001b[39m\"\u001b[39m\u001b[39msnowflake.\u001b[39m\u001b[39m{\u001b[39;00mpackage_table\u001b[39m}\u001b[39;00m\u001b[39m\"\u001b[39m\n\u001b[1;32m--> 955\u001b[0m valid_packages \u001b[39m=\u001b[39m \u001b[39mself\u001b[39;49m\u001b[39m.\u001b[39;49m_get_available_versions_for_packages(\n\u001b[0;32m    956\u001b[0m     package_names\u001b[39m=\u001b[39;49m[v[\u001b[39m0\u001b[39;49m] \u001b[39mfor\u001b[39;49;00m v \u001b[39min\u001b[39;49;00m package_dict\u001b[39m.\u001b[39;49mvalues()],\n\u001b[0;32m    957\u001b[0m     package_table_name\u001b[39m=\u001b[39;49mpackage_table,\n\u001b[0;32m    958\u001b[0m     validate_package\u001b[39m=\u001b[39;49mvalidate_package,\n\u001b[0;32m    959\u001b[0m )\n\u001b[0;32m    961\u001b[0m result_dict \u001b[39m=\u001b[39m (\n\u001b[0;32m    962\u001b[0m     existing_packages_dict \u001b[39mif\u001b[39;00m existing_packages_dict \u001b[39mis\u001b[39;00m \u001b[39mnot\u001b[39;00m \u001b[39mNone\u001b[39;00m \u001b[39melse\u001b[39;00m {}\n\u001b[0;32m    963\u001b[0m )\n\u001b[0;32m    964\u001b[0m unsupported_packages: List[\u001b[39mstr\u001b[39m] \u001b[39m=\u001b[39m []\n",
      "File \u001b[1;32mc:\\Users\\ganeshkasyap.movva\\AppData\\Local\\Programs\\Python\\Python310\\lib\\site-packages\\snowflake\\snowpark\\session.py:1353\u001b[0m, in \u001b[0;36mSession._get_available_versions_for_packages\u001b[1;34m(self, package_names, package_table_name, validate_package)\u001b[0m\n\u001b[0;32m   1343\u001b[0m \u001b[39mdef\u001b[39;00m \u001b[39m_get_available_versions_for_packages\u001b[39m(\n\u001b[0;32m   1344\u001b[0m     \u001b[39mself\u001b[39m,\n\u001b[0;32m   1345\u001b[0m     package_names: List[\u001b[39mstr\u001b[39m],\n\u001b[0;32m   1346\u001b[0m     package_table_name: \u001b[39mstr\u001b[39m,\n\u001b[0;32m   1347\u001b[0m     validate_package: \u001b[39mbool\u001b[39m \u001b[39m=\u001b[39m \u001b[39mTrue\u001b[39;00m,\n\u001b[0;32m   1348\u001b[0m ) \u001b[39m-\u001b[39m\u001b[39m>\u001b[39m Dict[\u001b[39mstr\u001b[39m, List[\u001b[39mstr\u001b[39m]]:\n\u001b[0;32m   1349\u001b[0m     package_to_version_mapping \u001b[39m=\u001b[39m (\n\u001b[0;32m   1350\u001b[0m         {\n\u001b[0;32m   1351\u001b[0m             p[\u001b[39m0\u001b[39m]: json\u001b[39m.\u001b[39mloads(p[\u001b[39m1\u001b[39m])\n\u001b[0;32m   1352\u001b[0m             \u001b[39mfor\u001b[39;00m p \u001b[39min\u001b[39;00m \u001b[39mself\u001b[39;49m\u001b[39m.\u001b[39;49mtable(package_table_name)\n\u001b[1;32m-> 1353\u001b[0m             \u001b[39m.\u001b[39;49mfilter(\n\u001b[0;32m   1354\u001b[0m                 (col(\u001b[39m\"\u001b[39;49m\u001b[39mlanguage\u001b[39;49m\u001b[39m\"\u001b[39;49m) \u001b[39m==\u001b[39;49m \u001b[39m\"\u001b[39;49m\u001b[39mpython\u001b[39;49m\u001b[39m\"\u001b[39;49m)\n\u001b[0;32m   1355\u001b[0m                 \u001b[39m&\u001b[39;49m (col(\u001b[39m\"\u001b[39;49m\u001b[39mpackage_name\u001b[39;49m\u001b[39m\"\u001b[39;49m)\u001b[39m.\u001b[39;49min_(package_names))\n\u001b[0;32m   1356\u001b[0m             )\n\u001b[0;32m   1357\u001b[0m             \u001b[39m.\u001b[39mgroup_by(\u001b[39m\"\u001b[39m\u001b[39mpackage_name\u001b[39m\u001b[39m\"\u001b[39m)\n\u001b[0;32m   1358\u001b[0m             \u001b[39m.\u001b[39magg(array_agg(\u001b[39m\"\u001b[39m\u001b[39mversion\u001b[39m\u001b[39m\"\u001b[39m))\n\u001b[0;32m   1359\u001b[0m             \u001b[39m.\u001b[39m_internal_collect_with_tag()\n\u001b[0;32m   1360\u001b[0m         }\n\u001b[0;32m   1361\u001b[0m         \u001b[39mif\u001b[39;00m validate_package \u001b[39mand\u001b[39;00m \u001b[39mlen\u001b[39m(package_names) \u001b[39m>\u001b[39m \u001b[39m0\u001b[39m\n\u001b[0;32m   1362\u001b[0m         \u001b[39melse\u001b[39;00m \u001b[39mNone\u001b[39;00m\n\u001b[0;32m   1363\u001b[0m     )\n\u001b[0;32m   1364\u001b[0m     \u001b[39mreturn\u001b[39;00m package_to_version_mapping\n",
      "File \u001b[1;32mc:\\Users\\ganeshkasyap.movva\\AppData\\Local\\Programs\\Python\\Python310\\lib\\site-packages\\snowflake\\snowpark\\_internal\\telemetry.py:184\u001b[0m, in \u001b[0;36mdf_api_usage.<locals>.wrap\u001b[1;34m(*args, **kwargs)\u001b[0m\n\u001b[0;32m    182\u001b[0m \u001b[39m@functools\u001b[39m\u001b[39m.\u001b[39mwraps(func)\n\u001b[0;32m    183\u001b[0m \u001b[39mdef\u001b[39;00m \u001b[39mwrap\u001b[39m(\u001b[39m*\u001b[39margs, \u001b[39m*\u001b[39m\u001b[39m*\u001b[39mkwargs):\n\u001b[1;32m--> 184\u001b[0m     r \u001b[39m=\u001b[39m func(\u001b[39m*\u001b[39margs, \u001b[39m*\u001b[39m\u001b[39m*\u001b[39mkwargs)\n\u001b[0;32m    185\u001b[0m     plan \u001b[39m=\u001b[39m r\u001b[39m.\u001b[39m_select_statement \u001b[39mor\u001b[39;00m r\u001b[39m.\u001b[39m_plan\n\u001b[0;32m    186\u001b[0m     \u001b[39m# Some DataFrame APIs call other DataFrame APIs, so we need to remove the extra call\u001b[39;00m\n",
      "File \u001b[1;32mc:\\Users\\ganeshkasyap.movva\\AppData\\Local\\Programs\\Python\\Python310\\lib\\site-packages\\snowflake\\snowpark\\dataframe.py:1167\u001b[0m, in \u001b[0;36mDataFrame.filter\u001b[1;34m(self, expr)\u001b[0m\n\u001b[0;32m   1146\u001b[0m \u001b[39m\u001b[39m\u001b[39m\"\"\"Filters rows based on the specified conditional expression (similar to WHERE\u001b[39;00m\n\u001b[0;32m   1147\u001b[0m \u001b[39min SQL).\u001b[39;00m\n\u001b[0;32m   1148\u001b[0m \n\u001b[1;32m   (...)\u001b[0m\n\u001b[0;32m   1163\u001b[0m \u001b[39m:meth:`where` is an alias of :meth:`filter`.\u001b[39;00m\n\u001b[0;32m   1164\u001b[0m \u001b[39m\"\"\"\u001b[39;00m\n\u001b[0;32m   1165\u001b[0m \u001b[39mif\u001b[39;00m \u001b[39mself\u001b[39m\u001b[39m.\u001b[39m_select_statement:\n\u001b[0;32m   1166\u001b[0m     \u001b[39mreturn\u001b[39;00m \u001b[39mself\u001b[39m\u001b[39m.\u001b[39m_with_plan(\n\u001b[1;32m-> 1167\u001b[0m         \u001b[39mself\u001b[39;49m\u001b[39m.\u001b[39;49m_select_statement\u001b[39m.\u001b[39;49mfilter(\n\u001b[0;32m   1168\u001b[0m             _to_col_if_sql_expr(expr, \u001b[39m\"\u001b[39;49m\u001b[39mfilter/where\u001b[39;49m\u001b[39m\"\u001b[39;49m)\u001b[39m.\u001b[39;49m_expression\n\u001b[0;32m   1169\u001b[0m         )\n\u001b[0;32m   1170\u001b[0m     )\n\u001b[0;32m   1171\u001b[0m \u001b[39mreturn\u001b[39;00m \u001b[39mself\u001b[39m\u001b[39m.\u001b[39m_with_plan(\n\u001b[0;32m   1172\u001b[0m     Filter(\n\u001b[0;32m   1173\u001b[0m         _to_col_if_sql_expr(expr, \u001b[39m\"\u001b[39m\u001b[39mfilter/where\u001b[39m\u001b[39m\"\u001b[39m)\u001b[39m.\u001b[39m_expression,\n\u001b[0;32m   1174\u001b[0m         \u001b[39mself\u001b[39m\u001b[39m.\u001b[39m_plan,\n\u001b[0;32m   1175\u001b[0m     )\n\u001b[0;32m   1176\u001b[0m )\n",
      "File \u001b[1;32mc:\\Users\\ganeshkasyap.movva\\AppData\\Local\\Programs\\Python\\Python310\\lib\\site-packages\\snowflake\\snowpark\\_internal\\analyzer\\select_statement.py:639\u001b[0m, in \u001b[0;36mSelectStatement.filter\u001b[1;34m(self, col)\u001b[0m\n\u001b[0;32m    635\u001b[0m \u001b[39mdef\u001b[39;00m \u001b[39mfilter\u001b[39m(\u001b[39mself\u001b[39m, col: Expression) \u001b[39m-\u001b[39m\u001b[39m>\u001b[39m \u001b[39m\"\u001b[39m\u001b[39mSelectStatement\u001b[39m\u001b[39m\"\u001b[39m:\n\u001b[0;32m    636\u001b[0m     can_be_flattened \u001b[39m=\u001b[39m (\n\u001b[0;32m    637\u001b[0m         \u001b[39mnot\u001b[39;00m \u001b[39mself\u001b[39m\u001b[39m.\u001b[39mflatten_disabled\n\u001b[0;32m    638\u001b[0m     ) \u001b[39mand\u001b[39;00m can_clause_dependent_columns_flatten(\n\u001b[1;32m--> 639\u001b[0m         derive_dependent_columns(col), \u001b[39mself\u001b[39;49m\u001b[39m.\u001b[39;49mcolumn_states\n\u001b[0;32m    640\u001b[0m     )\n\u001b[0;32m    641\u001b[0m     \u001b[39mif\u001b[39;00m can_be_flattened:\n\u001b[0;32m    642\u001b[0m         new \u001b[39m=\u001b[39m copy(\u001b[39mself\u001b[39m)\n",
      "File \u001b[1;32mc:\\Users\\ganeshkasyap.movva\\AppData\\Local\\Programs\\Python\\Python310\\lib\\site-packages\\snowflake\\snowpark\\_internal\\analyzer\\select_statement.py:448\u001b[0m, in \u001b[0;36mSelectStatement.column_states\u001b[1;34m(self)\u001b[0m\n\u001b[0;32m    446\u001b[0m \u001b[39mif\u001b[39;00m \u001b[39mself\u001b[39m\u001b[39m.\u001b[39m_column_states \u001b[39mis\u001b[39;00m \u001b[39mNone\u001b[39;00m:\n\u001b[0;32m    447\u001b[0m     \u001b[39mif\u001b[39;00m \u001b[39mnot\u001b[39;00m \u001b[39mself\u001b[39m\u001b[39m.\u001b[39mprojection \u001b[39mand\u001b[39;00m \u001b[39mnot\u001b[39;00m \u001b[39mself\u001b[39m\u001b[39m.\u001b[39mhas_clause:\n\u001b[1;32m--> 448\u001b[0m         \u001b[39mself\u001b[39m\u001b[39m.\u001b[39m_column_states \u001b[39m=\u001b[39m \u001b[39mself\u001b[39;49m\u001b[39m.\u001b[39;49mfrom_\u001b[39m.\u001b[39;49mcolumn_states\n\u001b[0;32m    449\u001b[0m     \u001b[39melse\u001b[39;00m:\n\u001b[0;32m    450\u001b[0m         \u001b[39msuper\u001b[39m()\u001b[39m.\u001b[39mcolumn_states  \u001b[39m# will assign value to self._column_states\u001b[39;00m\n",
      "File \u001b[1;32mc:\\Users\\ganeshkasyap.movva\\AppData\\Local\\Programs\\Python\\Python310\\lib\\site-packages\\snowflake\\snowpark\\_internal\\analyzer\\select_statement.py:250\u001b[0m, in \u001b[0;36mSelectable.column_states\u001b[1;34m(self)\u001b[0m\n\u001b[0;32m    245\u001b[0m \u001b[39m\u001b[39m\u001b[39m\"\"\"A dictionary that contains the column states of a query.\u001b[39;00m\n\u001b[0;32m    246\u001b[0m \u001b[39mRefer to class ColumnStateDict.\u001b[39;00m\n\u001b[0;32m    247\u001b[0m \u001b[39m\"\"\"\u001b[39;00m\n\u001b[0;32m    248\u001b[0m \u001b[39mif\u001b[39;00m \u001b[39mself\u001b[39m\u001b[39m.\u001b[39m_column_states \u001b[39mis\u001b[39;00m \u001b[39mNone\u001b[39;00m:\n\u001b[0;32m    249\u001b[0m     \u001b[39mself\u001b[39m\u001b[39m.\u001b[39m_column_states \u001b[39m=\u001b[39m initiate_column_states(\n\u001b[1;32m--> 250\u001b[0m         \u001b[39mself\u001b[39;49m\u001b[39m.\u001b[39;49msnowflake_plan\u001b[39m.\u001b[39;49mattributes,\n\u001b[0;32m    251\u001b[0m         \u001b[39mself\u001b[39m\u001b[39m.\u001b[39manalyzer,\n\u001b[0;32m    252\u001b[0m         \u001b[39mself\u001b[39m\u001b[39m.\u001b[39mdf_aliased_col_name_to_real_col_name,\n\u001b[0;32m    253\u001b[0m     )\n\u001b[0;32m    254\u001b[0m \u001b[39mreturn\u001b[39;00m \u001b[39mself\u001b[39m\u001b[39m.\u001b[39m_column_states\n",
      "File \u001b[1;32mc:\\Users\\ganeshkasyap.movva\\AppData\\Local\\Programs\\Python\\Python310\\lib\\functools.py:981\u001b[0m, in \u001b[0;36mcached_property.__get__\u001b[1;34m(self, instance, owner)\u001b[0m\n\u001b[0;32m    979\u001b[0m val \u001b[39m=\u001b[39m cache\u001b[39m.\u001b[39mget(\u001b[39mself\u001b[39m\u001b[39m.\u001b[39mattrname, _NOT_FOUND)\n\u001b[0;32m    980\u001b[0m \u001b[39mif\u001b[39;00m val \u001b[39mis\u001b[39;00m _NOT_FOUND:\n\u001b[1;32m--> 981\u001b[0m     val \u001b[39m=\u001b[39m \u001b[39mself\u001b[39;49m\u001b[39m.\u001b[39;49mfunc(instance)\n\u001b[0;32m    982\u001b[0m     \u001b[39mtry\u001b[39;00m:\n\u001b[0;32m    983\u001b[0m         cache[\u001b[39mself\u001b[39m\u001b[39m.\u001b[39mattrname] \u001b[39m=\u001b[39m val\n",
      "File \u001b[1;32mc:\\Users\\ganeshkasyap.movva\\AppData\\Local\\Programs\\Python\\Python310\\lib\\site-packages\\snowflake\\snowpark\\_internal\\analyzer\\snowflake_plan.py:250\u001b[0m, in \u001b[0;36mSnowflakePlan.attributes\u001b[1;34m(self)\u001b[0m\n\u001b[0;32m    248\u001b[0m \u001b[39m@cached_property\u001b[39m\n\u001b[0;32m    249\u001b[0m \u001b[39mdef\u001b[39;00m \u001b[39mattributes\u001b[39m(\u001b[39mself\u001b[39m) \u001b[39m-\u001b[39m\u001b[39m>\u001b[39m List[Attribute]:\n\u001b[1;32m--> 250\u001b[0m     output \u001b[39m=\u001b[39m analyze_attributes(\u001b[39mself\u001b[39;49m\u001b[39m.\u001b[39;49mschema_query, \u001b[39mself\u001b[39;49m\u001b[39m.\u001b[39;49msession)\n\u001b[0;32m    251\u001b[0m     \u001b[39mself\u001b[39m\u001b[39m.\u001b[39mschema_query \u001b[39m=\u001b[39m schema_value_statement(output)\n\u001b[0;32m    252\u001b[0m     \u001b[39mreturn\u001b[39;00m output\n",
      "File \u001b[1;32mc:\\Users\\ganeshkasyap.movva\\AppData\\Local\\Programs\\Python\\Python310\\lib\\site-packages\\snowflake\\snowpark\\_internal\\analyzer\\schema_utils.py:82\u001b[0m, in \u001b[0;36manalyze_attributes\u001b[1;34m(sql, session)\u001b[0m\n\u001b[0;32m     79\u001b[0m     session\u001b[39m.\u001b[39m_run_query(sql)\n\u001b[0;32m     80\u001b[0m     \u001b[39mreturn\u001b[39;00m convert_result_meta_to_attribute(session\u001b[39m.\u001b[39m_conn\u001b[39m.\u001b[39m_cursor\u001b[39m.\u001b[39mdescription)\n\u001b[1;32m---> 82\u001b[0m \u001b[39mreturn\u001b[39;00m session\u001b[39m.\u001b[39;49m_get_result_attributes(sql)\n",
      "File \u001b[1;32mc:\\Users\\ganeshkasyap.movva\\AppData\\Local\\Programs\\Python\\Python310\\lib\\site-packages\\snowflake\\snowpark\\session.py:1630\u001b[0m, in \u001b[0;36mSession._get_result_attributes\u001b[1;34m(self, query)\u001b[0m\n\u001b[0;32m   1629\u001b[0m \u001b[39mdef\u001b[39;00m \u001b[39m_get_result_attributes\u001b[39m(\u001b[39mself\u001b[39m, query: \u001b[39mstr\u001b[39m) \u001b[39m-\u001b[39m\u001b[39m>\u001b[39m List[Attribute]:\n\u001b[1;32m-> 1630\u001b[0m     \u001b[39mreturn\u001b[39;00m \u001b[39mself\u001b[39;49m\u001b[39m.\u001b[39;49m_conn\u001b[39m.\u001b[39;49mget_result_attributes(query)\n",
      "File \u001b[1;32mc:\\Users\\ganeshkasyap.movva\\AppData\\Local\\Programs\\Python\\Python310\\lib\\site-packages\\snowflake\\snowpark\\_internal\\analyzer\\snowflake_plan.py:181\u001b[0m, in \u001b[0;36mSnowflakePlan.Decorator.wrap_exception.<locals>.wrap\u001b[1;34m(*args, **kwargs)\u001b[0m\n\u001b[0;32m    177\u001b[0m \u001b[39melse\u001b[39;00m:\n\u001b[0;32m    178\u001b[0m     ne \u001b[39m=\u001b[39m SnowparkClientExceptionMessages\u001b[39m.\u001b[39mSQL_EXCEPTION_FROM_PROGRAMMING_ERROR(\n\u001b[0;32m    179\u001b[0m         e\n\u001b[0;32m    180\u001b[0m     )\n\u001b[1;32m--> 181\u001b[0m     \u001b[39mraise\u001b[39;00m ne\u001b[39m.\u001b[39mwith_traceback(tb) \u001b[39mfrom\u001b[39;00m \u001b[39mNone\u001b[39;00m\n",
      "File \u001b[1;32mc:\\Users\\ganeshkasyap.movva\\AppData\\Local\\Programs\\Python\\Python310\\lib\\site-packages\\snowflake\\snowpark\\_internal\\analyzer\\snowflake_plan.py:111\u001b[0m, in \u001b[0;36mSnowflakePlan.Decorator.wrap_exception.<locals>.wrap\u001b[1;34m(*args, **kwargs)\u001b[0m\n\u001b[0;32m    109\u001b[0m \u001b[39mdef\u001b[39;00m \u001b[39mwrap\u001b[39m(\u001b[39m*\u001b[39margs, \u001b[39m*\u001b[39m\u001b[39m*\u001b[39mkwargs):\n\u001b[0;32m    110\u001b[0m     \u001b[39mtry\u001b[39;00m:\n\u001b[1;32m--> 111\u001b[0m         \u001b[39mreturn\u001b[39;00m func(\u001b[39m*\u001b[39margs, \u001b[39m*\u001b[39m\u001b[39m*\u001b[39mkwargs)\n\u001b[0;32m    112\u001b[0m     \u001b[39mexcept\u001b[39;00m snowflake\u001b[39m.\u001b[39mconnector\u001b[39m.\u001b[39merrors\u001b[39m.\u001b[39mProgrammingError \u001b[39mas\u001b[39;00m e:\n\u001b[0;32m    113\u001b[0m         query \u001b[39m=\u001b[39m \u001b[39mNone\u001b[39;00m\n",
      "File \u001b[1;32mc:\\Users\\ganeshkasyap.movva\\AppData\\Local\\Programs\\Python\\Python310\\lib\\site-packages\\snowflake\\snowpark\\_internal\\server_connection.py:206\u001b[0m, in \u001b[0;36mServerConnection.get_result_attributes\u001b[1;34m(self, query)\u001b[0m\n\u001b[0;32m    204\u001b[0m \u001b[39m@SnowflakePlan\u001b[39m\u001b[39m.\u001b[39mDecorator\u001b[39m.\u001b[39mwrap_exception\n\u001b[0;32m    205\u001b[0m \u001b[39mdef\u001b[39;00m \u001b[39mget_result_attributes\u001b[39m(\u001b[39mself\u001b[39m, query: \u001b[39mstr\u001b[39m) \u001b[39m-\u001b[39m\u001b[39m>\u001b[39m List[Attribute]:\n\u001b[1;32m--> 206\u001b[0m     \u001b[39mreturn\u001b[39;00m convert_result_meta_to_attribute(\u001b[39mself\u001b[39;49m\u001b[39m.\u001b[39;49m_cursor\u001b[39m.\u001b[39;49mdescribe(query))\n",
      "File \u001b[1;32mc:\\Users\\ganeshkasyap.movva\\AppData\\Local\\Programs\\Python\\Python310\\lib\\site-packages\\snowflake\\connector\\cursor.py:930\u001b[0m, in \u001b[0;36mSnowflakeCursor.describe\u001b[1;34m(self, *args, **kwargs)\u001b[0m\n\u001b[0;32m    921\u001b[0m \u001b[39m\u001b[39m\u001b[39m\"\"\"Obtain the schema of the result without executing the query.\u001b[39;00m\n\u001b[0;32m    922\u001b[0m \n\u001b[0;32m    923\u001b[0m \u001b[39mThis function takes the same arguments as execute, please refer to that function\u001b[39;00m\n\u001b[1;32m   (...)\u001b[0m\n\u001b[0;32m    927\u001b[0m \u001b[39m    The schema of the result.\u001b[39;00m\n\u001b[0;32m    928\u001b[0m \u001b[39m\"\"\"\u001b[39;00m\n\u001b[0;32m    929\u001b[0m kwargs[\u001b[39m\"\u001b[39m\u001b[39m_describe_only\u001b[39m\u001b[39m\"\u001b[39m] \u001b[39m=\u001b[39m kwargs[\u001b[39m\"\u001b[39m\u001b[39m_is_internal\u001b[39m\u001b[39m\"\u001b[39m] \u001b[39m=\u001b[39m \u001b[39mTrue\u001b[39;00m\n\u001b[1;32m--> 930\u001b[0m \u001b[39mself\u001b[39m\u001b[39m.\u001b[39mexecute(\u001b[39m*\u001b[39margs, \u001b[39m*\u001b[39m\u001b[39m*\u001b[39mkwargs)\n\u001b[0;32m    931\u001b[0m \u001b[39mreturn\u001b[39;00m \u001b[39mself\u001b[39m\u001b[39m.\u001b[39m_description\n",
      "File \u001b[1;32mc:\\Users\\ganeshkasyap.movva\\AppData\\Local\\Programs\\Python\\Python310\\lib\\site-packages\\snowflake\\connector\\cursor.py:908\u001b[0m, in \u001b[0;36mSnowflakeCursor.execute\u001b[1;34m(self, command, params, _bind_stage, timeout, _exec_async, _no_retry, _do_reset, _put_callback, _put_azure_callback, _put_callback_output_stream, _get_callback, _get_azure_callback, _get_callback_output_stream, _show_progress_bar, _statement_params, _is_internal, _describe_only, _no_results, _is_put_get, _raise_put_get_error, _force_put_overwrite, _skip_upload_on_content_match, file_stream, num_statements)\u001b[0m\n\u001b[0;32m    904\u001b[0m     is_integrity_error \u001b[39m=\u001b[39m (\n\u001b[0;32m    905\u001b[0m         code \u001b[39m==\u001b[39m \u001b[39m\"\u001b[39m\u001b[39m100072\u001b[39m\u001b[39m\"\u001b[39m\n\u001b[0;32m    906\u001b[0m     )  \u001b[39m# NULL result in a non-nullable column\u001b[39;00m\n\u001b[0;32m    907\u001b[0m     error_class \u001b[39m=\u001b[39m IntegrityError \u001b[39mif\u001b[39;00m is_integrity_error \u001b[39melse\u001b[39;00m ProgrammingError\n\u001b[1;32m--> 908\u001b[0m     Error\u001b[39m.\u001b[39;49merrorhandler_wrapper(\u001b[39mself\u001b[39;49m\u001b[39m.\u001b[39;49mconnection, \u001b[39mself\u001b[39;49m, error_class, errvalue)\n\u001b[0;32m    909\u001b[0m \u001b[39mreturn\u001b[39;00m \u001b[39mself\u001b[39m\n",
      "File \u001b[1;32mc:\\Users\\ganeshkasyap.movva\\AppData\\Local\\Programs\\Python\\Python310\\lib\\site-packages\\snowflake\\connector\\errors.py:290\u001b[0m, in \u001b[0;36mError.errorhandler_wrapper\u001b[1;34m(connection, cursor, error_class, error_value)\u001b[0m\n\u001b[0;32m    267\u001b[0m \u001b[39m@staticmethod\u001b[39m\n\u001b[0;32m    268\u001b[0m \u001b[39mdef\u001b[39;00m \u001b[39merrorhandler_wrapper\u001b[39m(\n\u001b[0;32m    269\u001b[0m     connection: SnowflakeConnection \u001b[39m|\u001b[39m \u001b[39mNone\u001b[39;00m,\n\u001b[1;32m   (...)\u001b[0m\n\u001b[0;32m    272\u001b[0m     error_value: \u001b[39mdict\u001b[39m[\u001b[39mstr\u001b[39m, Any],\n\u001b[0;32m    273\u001b[0m ) \u001b[39m-\u001b[39m\u001b[39m>\u001b[39m \u001b[39mNone\u001b[39;00m:\n\u001b[0;32m    274\u001b[0m \u001b[39m    \u001b[39m\u001b[39m\"\"\"Error handler wrapper that calls the errorhandler method.\u001b[39;00m\n\u001b[0;32m    275\u001b[0m \n\u001b[0;32m    276\u001b[0m \u001b[39m    Args:\u001b[39;00m\n\u001b[1;32m   (...)\u001b[0m\n\u001b[0;32m    287\u001b[0m \u001b[39m        exception to the first handler in that order.\u001b[39;00m\n\u001b[0;32m    288\u001b[0m \u001b[39m    \"\"\"\u001b[39;00m\n\u001b[1;32m--> 290\u001b[0m     handed_over \u001b[39m=\u001b[39m Error\u001b[39m.\u001b[39;49mhand_to_other_handler(\n\u001b[0;32m    291\u001b[0m         connection,\n\u001b[0;32m    292\u001b[0m         cursor,\n\u001b[0;32m    293\u001b[0m         error_class,\n\u001b[0;32m    294\u001b[0m         error_value,\n\u001b[0;32m    295\u001b[0m     )\n\u001b[0;32m    296\u001b[0m     \u001b[39mif\u001b[39;00m \u001b[39mnot\u001b[39;00m handed_over:\n\u001b[0;32m    297\u001b[0m         \u001b[39mraise\u001b[39;00m Error\u001b[39m.\u001b[39merrorhandler_make_exception(\n\u001b[0;32m    298\u001b[0m             error_class,\n\u001b[0;32m    299\u001b[0m             error_value,\n\u001b[0;32m    300\u001b[0m         )\n",
      "File \u001b[1;32mc:\\Users\\ganeshkasyap.movva\\AppData\\Local\\Programs\\Python\\Python310\\lib\\site-packages\\snowflake\\connector\\errors.py:345\u001b[0m, in \u001b[0;36mError.hand_to_other_handler\u001b[1;34m(connection, cursor, error_class, error_value)\u001b[0m\n\u001b[0;32m    343\u001b[0m \u001b[39mif\u001b[39;00m cursor \u001b[39mis\u001b[39;00m \u001b[39mnot\u001b[39;00m \u001b[39mNone\u001b[39;00m:\n\u001b[0;32m    344\u001b[0m     cursor\u001b[39m.\u001b[39mmessages\u001b[39m.\u001b[39mappend((error_class, error_value))\n\u001b[1;32m--> 345\u001b[0m     cursor\u001b[39m.\u001b[39;49merrorhandler(connection, cursor, error_class, error_value)\n\u001b[0;32m    346\u001b[0m     \u001b[39mreturn\u001b[39;00m \u001b[39mTrue\u001b[39;00m\n\u001b[0;32m    347\u001b[0m \u001b[39melif\u001b[39;00m connection \u001b[39mis\u001b[39;00m \u001b[39mnot\u001b[39;00m \u001b[39mNone\u001b[39;00m:\n",
      "File \u001b[1;32mc:\\Users\\ganeshkasyap.movva\\AppData\\Local\\Programs\\Python\\Python310\\lib\\site-packages\\snowflake\\connector\\errors.py:221\u001b[0m, in \u001b[0;36mError.default_errorhandler\u001b[1;34m(connection, cursor, error_class, error_value)\u001b[0m\n\u001b[0;32m    219\u001b[0m errno \u001b[39m=\u001b[39m error_value\u001b[39m.\u001b[39mget(\u001b[39m\"\u001b[39m\u001b[39merrno\u001b[39m\u001b[39m\"\u001b[39m)\n\u001b[0;32m    220\u001b[0m done_format_msg \u001b[39m=\u001b[39m error_value\u001b[39m.\u001b[39mget(\u001b[39m\"\u001b[39m\u001b[39mdone_format_msg\u001b[39m\u001b[39m\"\u001b[39m)\n\u001b[1;32m--> 221\u001b[0m \u001b[39mraise\u001b[39;00m error_class(\n\u001b[0;32m    222\u001b[0m     msg\u001b[39m=\u001b[39merror_value\u001b[39m.\u001b[39mget(\u001b[39m\"\u001b[39m\u001b[39mmsg\u001b[39m\u001b[39m\"\u001b[39m),\n\u001b[0;32m    223\u001b[0m     errno\u001b[39m=\u001b[39m\u001b[39mNone\u001b[39;00m \u001b[39mif\u001b[39;00m errno \u001b[39mis\u001b[39;00m \u001b[39mNone\u001b[39;00m \u001b[39melse\u001b[39;00m \u001b[39mint\u001b[39m(errno),\n\u001b[0;32m    224\u001b[0m     sqlstate\u001b[39m=\u001b[39merror_value\u001b[39m.\u001b[39mget(\u001b[39m\"\u001b[39m\u001b[39msqlstate\u001b[39m\u001b[39m\"\u001b[39m),\n\u001b[0;32m    225\u001b[0m     sfqid\u001b[39m=\u001b[39merror_value\u001b[39m.\u001b[39mget(\u001b[39m\"\u001b[39m\u001b[39msfqid\u001b[39m\u001b[39m\"\u001b[39m),\n\u001b[0;32m    226\u001b[0m     query\u001b[39m=\u001b[39merror_value\u001b[39m.\u001b[39mget(\u001b[39m\"\u001b[39m\u001b[39mquery\u001b[39m\u001b[39m\"\u001b[39m),\n\u001b[0;32m    227\u001b[0m     done_format_msg\u001b[39m=\u001b[39m(\n\u001b[0;32m    228\u001b[0m         \u001b[39mNone\u001b[39;00m \u001b[39mif\u001b[39;00m done_format_msg \u001b[39mis\u001b[39;00m \u001b[39mNone\u001b[39;00m \u001b[39melse\u001b[39;00m \u001b[39mbool\u001b[39m(done_format_msg)\n\u001b[0;32m    229\u001b[0m     ),\n\u001b[0;32m    230\u001b[0m     connection\u001b[39m=\u001b[39mconnection,\n\u001b[0;32m    231\u001b[0m     cursor\u001b[39m=\u001b[39mcursor,\n\u001b[0;32m    232\u001b[0m )\n",
      "\u001b[1;31mSnowparkSQLException\u001b[0m: (1304): 01ae83d1-3200-da5c-0005-d0a200013076: 090105 (22000): Cannot perform SELECT. This session does not have a current database. Call 'USE DATABASE', or use a qualified name."
     ]
    }
   ],
   "source": [
    "session.udf.register_from_file(\n",
    "      file_path=\"train.py\"\n",
    "      , func_name=\"contains_anyof\"\n",
    "      , name=f\"{SNOWPATROL_DB}.{SNOWPATROL_SCHEMA}.udf_contains_anyof\"\n",
    "      , is_permanent=True\n",
    "      , packages = [\"snowflake-snowpark-python\"]\n",
    "      , imports=[f\"@{SNOWPATROL_DB}.{SNOWPATROL_SCHEMA}.{DEPS_STAGE}/constants.py\"]\n",
    "      , stage_location=f\"{SNOWPATROL_DB}.{SNOWPATROL_SCHEMA}.{OBJECT_STAGE}\"\n",
    "      , replace=True\n",
    ")"
   ]
  },
  {
   "attachments": {},
   "cell_type": "markdown",
   "id": "46b6077d",
   "metadata": {},
   "source": [
    "### Model Training"
   ]
  },
  {
   "cell_type": "code",
   "execution_count": null,
   "id": "51681e96",
   "metadata": {},
   "outputs": [
    {
     "ename": "SnowparkSQLException",
     "evalue": "(1304): 01ae83c4-3200-da5c-0005-d0a20001300e: 090105 (22000): Cannot perform SELECT. This session does not have a current database. Call 'USE DATABASE', or use a qualified name.",
     "output_type": "error",
     "traceback": [
      "\u001b[1;31m---------------------------------------------------------------------------\u001b[0m",
      "\u001b[1;31mSnowparkSQLException\u001b[0m                      Traceback (most recent call last)",
      "Cell \u001b[1;32mIn[12], line 1\u001b[0m\n\u001b[1;32m----> 1\u001b[0m session\u001b[39m.\u001b[39;49msproc\u001b[39m.\u001b[39;49mregister_from_file(\n\u001b[0;32m      2\u001b[0m     file_path \u001b[39m=\u001b[39;49m \u001b[39mf\u001b[39;49m\u001b[39m\"\u001b[39;49m\u001b[39m@\u001b[39;49m\u001b[39m{\u001b[39;49;00mSNOWPATROL_DB\u001b[39m}\u001b[39;49;00m\u001b[39m.\u001b[39;49m\u001b[39m{\u001b[39;49;00mSNOWPATROL_SCHEMA\u001b[39m}\u001b[39;49;00m\u001b[39m.\u001b[39;49m\u001b[39m{\u001b[39;49;00mDEPS_STAGE\u001b[39m}\u001b[39;49;00m\u001b[39m/train.py\u001b[39;49m\u001b[39m\"\u001b[39;49m\n\u001b[0;32m      3\u001b[0m     ,func_name \u001b[39m=\u001b[39;49m \u001b[39m\"\u001b[39;49m\u001b[39mrun_model_today\u001b[39;49m\u001b[39m\"\u001b[39;49m\n\u001b[0;32m      4\u001b[0m     ,name\u001b[39m=\u001b[39;49m\u001b[39mf\u001b[39;49m\u001b[39m\"\u001b[39;49m\u001b[39m{\u001b[39;49;00mSNOWPATROL_DB\u001b[39m}\u001b[39;49;00m\u001b[39m.\u001b[39;49m\u001b[39m{\u001b[39;49;00mSNOWPATROL_SCHEMA\u001b[39m}\u001b[39;49;00m\u001b[39m.run_model_today\u001b[39;49m\u001b[39m\"\u001b[39;49m\n\u001b[0;32m      5\u001b[0m     ,input_types\u001b[39m=\u001b[39;49m[T\u001b[39m.\u001b[39;49mIntegerType(),T\u001b[39m.\u001b[39;49mIntegerType(),T\u001b[39m.\u001b[39;49mFloatType(),T\u001b[39m.\u001b[39;49mBooleanType(),T\u001b[39m.\u001b[39;49mBooleanType(),T\u001b[39m.\u001b[39;49mBooleanType(), T\u001b[39m.\u001b[39;49mBooleanType()]\n\u001b[0;32m      6\u001b[0m     ,return_type\u001b[39m=\u001b[39;49mT\u001b[39m.\u001b[39;49mVariantType()\n\u001b[0;32m      7\u001b[0m     ,is_permanent\u001b[39m=\u001b[39;49m\u001b[39mTrue\u001b[39;49;00m\n\u001b[0;32m      8\u001b[0m     ,replace\u001b[39m=\u001b[39;49m\u001b[39mTrue\u001b[39;49;00m\n\u001b[0;32m      9\u001b[0m     ,stage_location\u001b[39m=\u001b[39;49m\u001b[39mf\u001b[39;49m\u001b[39m\"\u001b[39;49m\u001b[39m@\u001b[39;49m\u001b[39m{\u001b[39;49;00mSNOWPATROL_DB\u001b[39m}\u001b[39;49;00m\u001b[39m.\u001b[39;49m\u001b[39m{\u001b[39;49;00mSNOWPATROL_SCHEMA\u001b[39m}\u001b[39;49;00m\u001b[39m.\u001b[39;49m\u001b[39m{\u001b[39;49;00mOBJECT_STAGE\u001b[39m}\u001b[39;49;00m\u001b[39m\"\u001b[39;49m\n\u001b[0;32m     10\u001b[0m     ,packages\u001b[39m=\u001b[39;49m[\u001b[39m'\u001b[39;49m\u001b[39msnowflake-snowpark-python\u001b[39;49m\u001b[39m'\u001b[39;49m,\u001b[39m'\u001b[39;49m\u001b[39mpandas\u001b[39;49m\u001b[39m'\u001b[39;49m,\u001b[39m'\u001b[39;49m\u001b[39mscikit-learn==1.2.1\u001b[39;49m\u001b[39m'\u001b[39;49m,\u001b[39m'\u001b[39;49m\u001b[39mjoblib==1.1.1\u001b[39;49m\u001b[39m'\u001b[39;49m, \u001b[39m'\u001b[39;49m\u001b[39mnumpy\u001b[39;49m\u001b[39m'\u001b[39;49m]\n\u001b[0;32m     11\u001b[0m     ,imports\u001b[39m=\u001b[39;49m[\u001b[39mf\u001b[39;49m\u001b[39m\"\u001b[39;49m\u001b[39m@\u001b[39;49m\u001b[39m{\u001b[39;49;00mSNOWPATROL_DB\u001b[39m}\u001b[39;49;00m\u001b[39m.\u001b[39;49m\u001b[39m{\u001b[39;49;00mSNOWPATROL_SCHEMA\u001b[39m}\u001b[39;49;00m\u001b[39m.\u001b[39;49m\u001b[39m{\u001b[39;49;00mDEPS_STAGE\u001b[39m}\u001b[39;49;00m\u001b[39m/constants.py\u001b[39;49m\u001b[39m\"\u001b[39;49m]\n\u001b[0;32m     12\u001b[0m )\n",
      "File \u001b[1;32mc:\\Users\\ganeshkasyap.movva\\AppData\\Local\\Programs\\Python\\Python310\\lib\\site-packages\\snowflake\\snowpark\\stored_procedure.py:651\u001b[0m, in \u001b[0;36mStoredProcedureRegistration.register_from_file\u001b[1;34m(self, file_path, func_name, return_type, input_types, name, is_permanent, stage_location, imports, packages, replace, if_not_exists, parallel, execute_as, strict, statement_params, source_code_display, skip_upload_on_content_match)\u001b[0m\n\u001b[0;32m    648\u001b[0m check_execute_as_arg(execute_as)\n\u001b[0;32m    650\u001b[0m \u001b[39m# register stored procedure\u001b[39;00m\n\u001b[1;32m--> 651\u001b[0m \u001b[39mreturn\u001b[39;00m \u001b[39mself\u001b[39;49m\u001b[39m.\u001b[39;49m_do_register_sp(\n\u001b[0;32m    652\u001b[0m     (file_path, func_name),\n\u001b[0;32m    653\u001b[0m     return_type,\n\u001b[0;32m    654\u001b[0m     input_types,\n\u001b[0;32m    655\u001b[0m     name,\n\u001b[0;32m    656\u001b[0m     stage_location,\n\u001b[0;32m    657\u001b[0m     imports,\n\u001b[0;32m    658\u001b[0m     packages,\n\u001b[0;32m    659\u001b[0m     replace,\n\u001b[0;32m    660\u001b[0m     if_not_exists,\n\u001b[0;32m    661\u001b[0m     parallel,\n\u001b[0;32m    662\u001b[0m     strict,\n\u001b[0;32m    663\u001b[0m     statement_params\u001b[39m=\u001b[39;49mstatement_params,\n\u001b[0;32m    664\u001b[0m     execute_as\u001b[39m=\u001b[39;49mexecute_as,\n\u001b[0;32m    665\u001b[0m     api_call_source\u001b[39m=\u001b[39;49m\u001b[39m\"\u001b[39;49m\u001b[39mStoredProcedureRegistration.register_from_file\u001b[39;49m\u001b[39m\"\u001b[39;49m,\n\u001b[0;32m    666\u001b[0m     source_code_display\u001b[39m=\u001b[39;49msource_code_display,\n\u001b[0;32m    667\u001b[0m     skip_upload_on_content_match\u001b[39m=\u001b[39;49mskip_upload_on_content_match,\n\u001b[0;32m    668\u001b[0m )\n",
      "File \u001b[1;32mc:\\Users\\ganeshkasyap.movva\\AppData\\Local\\Programs\\Python\\Python310\\lib\\site-packages\\snowflake\\snowpark\\stored_procedure.py:722\u001b[0m, in \u001b[0;36mStoredProcedureRegistration._do_register_sp\u001b[1;34m(self, func, return_type, input_types, sp_name, stage_location, imports, packages, replace, if_not_exists, parallel, strict, source_code_display, statement_params, execute_as, anonymous, api_call_source, skip_upload_on_content_match)\u001b[0m\n\u001b[0;32m    710\u001b[0m arg_names \u001b[39m=\u001b[39m [\u001b[39m\"\u001b[39m\u001b[39msession\u001b[39m\u001b[39m\"\u001b[39m] \u001b[39m+\u001b[39m [\u001b[39mf\u001b[39m\u001b[39m\"\u001b[39m\u001b[39marg\u001b[39m\u001b[39m{\u001b[39;00mi\u001b[39m+\u001b[39m\u001b[39m1\u001b[39m\u001b[39m}\u001b[39;00m\u001b[39m\"\u001b[39m \u001b[39mfor\u001b[39;00m i \u001b[39min\u001b[39;00m \u001b[39mrange\u001b[39m(\u001b[39mlen\u001b[39m(input_types))]\n\u001b[0;32m    711\u001b[0m input_args \u001b[39m=\u001b[39m [\n\u001b[0;32m    712\u001b[0m     UDFColumn(dt, arg_name) \u001b[39mfor\u001b[39;00m dt, arg_name \u001b[39min\u001b[39;00m \u001b[39mzip\u001b[39m(input_types, arg_names[\u001b[39m1\u001b[39m:])\n\u001b[0;32m    713\u001b[0m ]\n\u001b[0;32m    715\u001b[0m (\n\u001b[0;32m    716\u001b[0m     handler,\n\u001b[0;32m    717\u001b[0m     code,\n\u001b[0;32m    718\u001b[0m     all_imports,\n\u001b[0;32m    719\u001b[0m     all_packages,\n\u001b[0;32m    720\u001b[0m     upload_file_stage_location,\n\u001b[0;32m    721\u001b[0m     custom_python_runtime_version_allowed,\n\u001b[1;32m--> 722\u001b[0m ) \u001b[39m=\u001b[39m resolve_imports_and_packages(\n\u001b[0;32m    723\u001b[0m     \u001b[39mself\u001b[39;49m\u001b[39m.\u001b[39;49m_session,\n\u001b[0;32m    724\u001b[0m     TempObjectType\u001b[39m.\u001b[39;49mPROCEDURE,\n\u001b[0;32m    725\u001b[0m     func,\n\u001b[0;32m    726\u001b[0m     arg_names,\n\u001b[0;32m    727\u001b[0m     udf_name,\n\u001b[0;32m    728\u001b[0m     stage_location,\n\u001b[0;32m    729\u001b[0m     imports,\n\u001b[0;32m    730\u001b[0m     packages,\n\u001b[0;32m    731\u001b[0m     parallel,\n\u001b[0;32m    732\u001b[0m     statement_params\u001b[39m=\u001b[39;49mstatement_params,\n\u001b[0;32m    733\u001b[0m     source_code_display\u001b[39m=\u001b[39;49msource_code_display,\n\u001b[0;32m    734\u001b[0m     skip_upload_on_content_match\u001b[39m=\u001b[39;49mskip_upload_on_content_match,\n\u001b[0;32m    735\u001b[0m )\n\u001b[0;32m    737\u001b[0m \u001b[39mif\u001b[39;00m \u001b[39mnot\u001b[39;00m custom_python_runtime_version_allowed:\n\u001b[0;32m    738\u001b[0m     check_python_runtime_version(\n\u001b[0;32m    739\u001b[0m         \u001b[39mself\u001b[39m\u001b[39m.\u001b[39m_session\u001b[39m.\u001b[39m_runtime_version_from_requirement\n\u001b[0;32m    740\u001b[0m     )\n",
      "File \u001b[1;32mc:\\Users\\ganeshkasyap.movva\\AppData\\Local\\Programs\\Python\\Python310\\lib\\site-packages\\snowflake\\snowpark\\_internal\\udf_utils.py:812\u001b[0m, in \u001b[0;36mresolve_imports_and_packages\u001b[1;34m(session, object_type, func, arg_names, udf_name, stage_location, imports, packages, parallel, is_pandas_udf, is_dataframe_input, max_batch_size, statement_params, source_code_display, skip_upload_on_content_match)\u001b[0m\n\u001b[0;32m    804\u001b[0m upload_stage \u001b[39m=\u001b[39m (\n\u001b[0;32m    805\u001b[0m     unwrap_stage_location_single_quote(stage_location)\n\u001b[0;32m    806\u001b[0m     \u001b[39mif\u001b[39;00m stage_location\n\u001b[0;32m    807\u001b[0m     \u001b[39melse\u001b[39;00m session\u001b[39m.\u001b[39mget_session_stage()\n\u001b[0;32m    808\u001b[0m )\n\u001b[0;32m    810\u001b[0m \u001b[39m# resolve packages\u001b[39;00m\n\u001b[0;32m    811\u001b[0m resolved_packages \u001b[39m=\u001b[39m (\n\u001b[1;32m--> 812\u001b[0m     session\u001b[39m.\u001b[39;49m_resolve_packages(packages, include_pandas\u001b[39m=\u001b[39;49mis_pandas_udf)\n\u001b[0;32m    813\u001b[0m     \u001b[39mif\u001b[39;00m packages \u001b[39mis\u001b[39;00m \u001b[39mnot\u001b[39;00m \u001b[39mNone\u001b[39;00m\n\u001b[0;32m    814\u001b[0m     \u001b[39melse\u001b[39;00m session\u001b[39m.\u001b[39m_resolve_packages(\n\u001b[0;32m    815\u001b[0m         [],\n\u001b[0;32m    816\u001b[0m         session\u001b[39m.\u001b[39m_packages,\n\u001b[0;32m    817\u001b[0m         validate_package\u001b[39m=\u001b[39m\u001b[39mFalse\u001b[39;00m,\n\u001b[0;32m    818\u001b[0m         include_pandas\u001b[39m=\u001b[39mis_pandas_udf,\n\u001b[0;32m    819\u001b[0m     )\n\u001b[0;32m    820\u001b[0m )\n\u001b[0;32m    822\u001b[0m \u001b[39m# resolve imports\u001b[39;00m\n\u001b[0;32m    823\u001b[0m \u001b[39mif\u001b[39;00m imports:\n",
      "File \u001b[1;32mc:\\Users\\ganeshkasyap.movva\\AppData\\Local\\Programs\\Python\\Python310\\lib\\site-packages\\snowflake\\snowpark\\session.py:955\u001b[0m, in \u001b[0;36mSession._resolve_packages\u001b[1;34m(self, packages, existing_packages_dict, validate_package, include_pandas)\u001b[0m\n\u001b[0;32m    952\u001b[0m \u001b[39mif\u001b[39;00m \u001b[39mnot\u001b[39;00m \u001b[39mself\u001b[39m\u001b[39m.\u001b[39mget_current_database():\n\u001b[0;32m    953\u001b[0m     package_table \u001b[39m=\u001b[39m \u001b[39mf\u001b[39m\u001b[39m\"\u001b[39m\u001b[39msnowflake.\u001b[39m\u001b[39m{\u001b[39;00mpackage_table\u001b[39m}\u001b[39;00m\u001b[39m\"\u001b[39m\n\u001b[1;32m--> 955\u001b[0m valid_packages \u001b[39m=\u001b[39m \u001b[39mself\u001b[39;49m\u001b[39m.\u001b[39;49m_get_available_versions_for_packages(\n\u001b[0;32m    956\u001b[0m     package_names\u001b[39m=\u001b[39;49m[v[\u001b[39m0\u001b[39;49m] \u001b[39mfor\u001b[39;49;00m v \u001b[39min\u001b[39;49;00m package_dict\u001b[39m.\u001b[39;49mvalues()],\n\u001b[0;32m    957\u001b[0m     package_table_name\u001b[39m=\u001b[39;49mpackage_table,\n\u001b[0;32m    958\u001b[0m     validate_package\u001b[39m=\u001b[39;49mvalidate_package,\n\u001b[0;32m    959\u001b[0m )\n\u001b[0;32m    961\u001b[0m result_dict \u001b[39m=\u001b[39m (\n\u001b[0;32m    962\u001b[0m     existing_packages_dict \u001b[39mif\u001b[39;00m existing_packages_dict \u001b[39mis\u001b[39;00m \u001b[39mnot\u001b[39;00m \u001b[39mNone\u001b[39;00m \u001b[39melse\u001b[39;00m {}\n\u001b[0;32m    963\u001b[0m )\n\u001b[0;32m    964\u001b[0m unsupported_packages: List[\u001b[39mstr\u001b[39m] \u001b[39m=\u001b[39m []\n",
      "File \u001b[1;32mc:\\Users\\ganeshkasyap.movva\\AppData\\Local\\Programs\\Python\\Python310\\lib\\site-packages\\snowflake\\snowpark\\session.py:1353\u001b[0m, in \u001b[0;36mSession._get_available_versions_for_packages\u001b[1;34m(self, package_names, package_table_name, validate_package)\u001b[0m\n\u001b[0;32m   1343\u001b[0m \u001b[39mdef\u001b[39;00m \u001b[39m_get_available_versions_for_packages\u001b[39m(\n\u001b[0;32m   1344\u001b[0m     \u001b[39mself\u001b[39m,\n\u001b[0;32m   1345\u001b[0m     package_names: List[\u001b[39mstr\u001b[39m],\n\u001b[0;32m   1346\u001b[0m     package_table_name: \u001b[39mstr\u001b[39m,\n\u001b[0;32m   1347\u001b[0m     validate_package: \u001b[39mbool\u001b[39m \u001b[39m=\u001b[39m \u001b[39mTrue\u001b[39;00m,\n\u001b[0;32m   1348\u001b[0m ) \u001b[39m-\u001b[39m\u001b[39m>\u001b[39m Dict[\u001b[39mstr\u001b[39m, List[\u001b[39mstr\u001b[39m]]:\n\u001b[0;32m   1349\u001b[0m     package_to_version_mapping \u001b[39m=\u001b[39m (\n\u001b[0;32m   1350\u001b[0m         {\n\u001b[0;32m   1351\u001b[0m             p[\u001b[39m0\u001b[39m]: json\u001b[39m.\u001b[39mloads(p[\u001b[39m1\u001b[39m])\n\u001b[0;32m   1352\u001b[0m             \u001b[39mfor\u001b[39;00m p \u001b[39min\u001b[39;00m \u001b[39mself\u001b[39;49m\u001b[39m.\u001b[39;49mtable(package_table_name)\n\u001b[1;32m-> 1353\u001b[0m             \u001b[39m.\u001b[39;49mfilter(\n\u001b[0;32m   1354\u001b[0m                 (col(\u001b[39m\"\u001b[39;49m\u001b[39mlanguage\u001b[39;49m\u001b[39m\"\u001b[39;49m) \u001b[39m==\u001b[39;49m \u001b[39m\"\u001b[39;49m\u001b[39mpython\u001b[39;49m\u001b[39m\"\u001b[39;49m)\n\u001b[0;32m   1355\u001b[0m                 \u001b[39m&\u001b[39;49m (col(\u001b[39m\"\u001b[39;49m\u001b[39mpackage_name\u001b[39;49m\u001b[39m\"\u001b[39;49m)\u001b[39m.\u001b[39;49min_(package_names))\n\u001b[0;32m   1356\u001b[0m             )\n\u001b[0;32m   1357\u001b[0m             \u001b[39m.\u001b[39mgroup_by(\u001b[39m\"\u001b[39m\u001b[39mpackage_name\u001b[39m\u001b[39m\"\u001b[39m)\n\u001b[0;32m   1358\u001b[0m             \u001b[39m.\u001b[39magg(array_agg(\u001b[39m\"\u001b[39m\u001b[39mversion\u001b[39m\u001b[39m\"\u001b[39m))\n\u001b[0;32m   1359\u001b[0m             \u001b[39m.\u001b[39m_internal_collect_with_tag()\n\u001b[0;32m   1360\u001b[0m         }\n\u001b[0;32m   1361\u001b[0m         \u001b[39mif\u001b[39;00m validate_package \u001b[39mand\u001b[39;00m \u001b[39mlen\u001b[39m(package_names) \u001b[39m>\u001b[39m \u001b[39m0\u001b[39m\n\u001b[0;32m   1362\u001b[0m         \u001b[39melse\u001b[39;00m \u001b[39mNone\u001b[39;00m\n\u001b[0;32m   1363\u001b[0m     )\n\u001b[0;32m   1364\u001b[0m     \u001b[39mreturn\u001b[39;00m package_to_version_mapping\n",
      "File \u001b[1;32mc:\\Users\\ganeshkasyap.movva\\AppData\\Local\\Programs\\Python\\Python310\\lib\\site-packages\\snowflake\\snowpark\\_internal\\telemetry.py:184\u001b[0m, in \u001b[0;36mdf_api_usage.<locals>.wrap\u001b[1;34m(*args, **kwargs)\u001b[0m\n\u001b[0;32m    182\u001b[0m \u001b[39m@functools\u001b[39m\u001b[39m.\u001b[39mwraps(func)\n\u001b[0;32m    183\u001b[0m \u001b[39mdef\u001b[39;00m \u001b[39mwrap\u001b[39m(\u001b[39m*\u001b[39margs, \u001b[39m*\u001b[39m\u001b[39m*\u001b[39mkwargs):\n\u001b[1;32m--> 184\u001b[0m     r \u001b[39m=\u001b[39m func(\u001b[39m*\u001b[39margs, \u001b[39m*\u001b[39m\u001b[39m*\u001b[39mkwargs)\n\u001b[0;32m    185\u001b[0m     plan \u001b[39m=\u001b[39m r\u001b[39m.\u001b[39m_select_statement \u001b[39mor\u001b[39;00m r\u001b[39m.\u001b[39m_plan\n\u001b[0;32m    186\u001b[0m     \u001b[39m# Some DataFrame APIs call other DataFrame APIs, so we need to remove the extra call\u001b[39;00m\n",
      "File \u001b[1;32mc:\\Users\\ganeshkasyap.movva\\AppData\\Local\\Programs\\Python\\Python310\\lib\\site-packages\\snowflake\\snowpark\\dataframe.py:1167\u001b[0m, in \u001b[0;36mDataFrame.filter\u001b[1;34m(self, expr)\u001b[0m\n\u001b[0;32m   1146\u001b[0m \u001b[39m\u001b[39m\u001b[39m\"\"\"Filters rows based on the specified conditional expression (similar to WHERE\u001b[39;00m\n\u001b[0;32m   1147\u001b[0m \u001b[39min SQL).\u001b[39;00m\n\u001b[0;32m   1148\u001b[0m \n\u001b[1;32m   (...)\u001b[0m\n\u001b[0;32m   1163\u001b[0m \u001b[39m:meth:`where` is an alias of :meth:`filter`.\u001b[39;00m\n\u001b[0;32m   1164\u001b[0m \u001b[39m\"\"\"\u001b[39;00m\n\u001b[0;32m   1165\u001b[0m \u001b[39mif\u001b[39;00m \u001b[39mself\u001b[39m\u001b[39m.\u001b[39m_select_statement:\n\u001b[0;32m   1166\u001b[0m     \u001b[39mreturn\u001b[39;00m \u001b[39mself\u001b[39m\u001b[39m.\u001b[39m_with_plan(\n\u001b[1;32m-> 1167\u001b[0m         \u001b[39mself\u001b[39;49m\u001b[39m.\u001b[39;49m_select_statement\u001b[39m.\u001b[39;49mfilter(\n\u001b[0;32m   1168\u001b[0m             _to_col_if_sql_expr(expr, \u001b[39m\"\u001b[39;49m\u001b[39mfilter/where\u001b[39;49m\u001b[39m\"\u001b[39;49m)\u001b[39m.\u001b[39;49m_expression\n\u001b[0;32m   1169\u001b[0m         )\n\u001b[0;32m   1170\u001b[0m     )\n\u001b[0;32m   1171\u001b[0m \u001b[39mreturn\u001b[39;00m \u001b[39mself\u001b[39m\u001b[39m.\u001b[39m_with_plan(\n\u001b[0;32m   1172\u001b[0m     Filter(\n\u001b[0;32m   1173\u001b[0m         _to_col_if_sql_expr(expr, \u001b[39m\"\u001b[39m\u001b[39mfilter/where\u001b[39m\u001b[39m\"\u001b[39m)\u001b[39m.\u001b[39m_expression,\n\u001b[0;32m   1174\u001b[0m         \u001b[39mself\u001b[39m\u001b[39m.\u001b[39m_plan,\n\u001b[0;32m   1175\u001b[0m     )\n\u001b[0;32m   1176\u001b[0m )\n",
      "File \u001b[1;32mc:\\Users\\ganeshkasyap.movva\\AppData\\Local\\Programs\\Python\\Python310\\lib\\site-packages\\snowflake\\snowpark\\_internal\\analyzer\\select_statement.py:639\u001b[0m, in \u001b[0;36mSelectStatement.filter\u001b[1;34m(self, col)\u001b[0m\n\u001b[0;32m    635\u001b[0m \u001b[39mdef\u001b[39;00m \u001b[39mfilter\u001b[39m(\u001b[39mself\u001b[39m, col: Expression) \u001b[39m-\u001b[39m\u001b[39m>\u001b[39m \u001b[39m\"\u001b[39m\u001b[39mSelectStatement\u001b[39m\u001b[39m\"\u001b[39m:\n\u001b[0;32m    636\u001b[0m     can_be_flattened \u001b[39m=\u001b[39m (\n\u001b[0;32m    637\u001b[0m         \u001b[39mnot\u001b[39;00m \u001b[39mself\u001b[39m\u001b[39m.\u001b[39mflatten_disabled\n\u001b[0;32m    638\u001b[0m     ) \u001b[39mand\u001b[39;00m can_clause_dependent_columns_flatten(\n\u001b[1;32m--> 639\u001b[0m         derive_dependent_columns(col), \u001b[39mself\u001b[39;49m\u001b[39m.\u001b[39;49mcolumn_states\n\u001b[0;32m    640\u001b[0m     )\n\u001b[0;32m    641\u001b[0m     \u001b[39mif\u001b[39;00m can_be_flattened:\n\u001b[0;32m    642\u001b[0m         new \u001b[39m=\u001b[39m copy(\u001b[39mself\u001b[39m)\n",
      "File \u001b[1;32mc:\\Users\\ganeshkasyap.movva\\AppData\\Local\\Programs\\Python\\Python310\\lib\\site-packages\\snowflake\\snowpark\\_internal\\analyzer\\select_statement.py:448\u001b[0m, in \u001b[0;36mSelectStatement.column_states\u001b[1;34m(self)\u001b[0m\n\u001b[0;32m    446\u001b[0m \u001b[39mif\u001b[39;00m \u001b[39mself\u001b[39m\u001b[39m.\u001b[39m_column_states \u001b[39mis\u001b[39;00m \u001b[39mNone\u001b[39;00m:\n\u001b[0;32m    447\u001b[0m     \u001b[39mif\u001b[39;00m \u001b[39mnot\u001b[39;00m \u001b[39mself\u001b[39m\u001b[39m.\u001b[39mprojection \u001b[39mand\u001b[39;00m \u001b[39mnot\u001b[39;00m \u001b[39mself\u001b[39m\u001b[39m.\u001b[39mhas_clause:\n\u001b[1;32m--> 448\u001b[0m         \u001b[39mself\u001b[39m\u001b[39m.\u001b[39m_column_states \u001b[39m=\u001b[39m \u001b[39mself\u001b[39;49m\u001b[39m.\u001b[39;49mfrom_\u001b[39m.\u001b[39;49mcolumn_states\n\u001b[0;32m    449\u001b[0m     \u001b[39melse\u001b[39;00m:\n\u001b[0;32m    450\u001b[0m         \u001b[39msuper\u001b[39m()\u001b[39m.\u001b[39mcolumn_states  \u001b[39m# will assign value to self._column_states\u001b[39;00m\n",
      "File \u001b[1;32mc:\\Users\\ganeshkasyap.movva\\AppData\\Local\\Programs\\Python\\Python310\\lib\\site-packages\\snowflake\\snowpark\\_internal\\analyzer\\select_statement.py:250\u001b[0m, in \u001b[0;36mSelectable.column_states\u001b[1;34m(self)\u001b[0m\n\u001b[0;32m    245\u001b[0m \u001b[39m\u001b[39m\u001b[39m\"\"\"A dictionary that contains the column states of a query.\u001b[39;00m\n\u001b[0;32m    246\u001b[0m \u001b[39mRefer to class ColumnStateDict.\u001b[39;00m\n\u001b[0;32m    247\u001b[0m \u001b[39m\"\"\"\u001b[39;00m\n\u001b[0;32m    248\u001b[0m \u001b[39mif\u001b[39;00m \u001b[39mself\u001b[39m\u001b[39m.\u001b[39m_column_states \u001b[39mis\u001b[39;00m \u001b[39mNone\u001b[39;00m:\n\u001b[0;32m    249\u001b[0m     \u001b[39mself\u001b[39m\u001b[39m.\u001b[39m_column_states \u001b[39m=\u001b[39m initiate_column_states(\n\u001b[1;32m--> 250\u001b[0m         \u001b[39mself\u001b[39;49m\u001b[39m.\u001b[39;49msnowflake_plan\u001b[39m.\u001b[39;49mattributes,\n\u001b[0;32m    251\u001b[0m         \u001b[39mself\u001b[39m\u001b[39m.\u001b[39manalyzer,\n\u001b[0;32m    252\u001b[0m         \u001b[39mself\u001b[39m\u001b[39m.\u001b[39mdf_aliased_col_name_to_real_col_name,\n\u001b[0;32m    253\u001b[0m     )\n\u001b[0;32m    254\u001b[0m \u001b[39mreturn\u001b[39;00m \u001b[39mself\u001b[39m\u001b[39m.\u001b[39m_column_states\n",
      "File \u001b[1;32mc:\\Users\\ganeshkasyap.movva\\AppData\\Local\\Programs\\Python\\Python310\\lib\\functools.py:981\u001b[0m, in \u001b[0;36mcached_property.__get__\u001b[1;34m(self, instance, owner)\u001b[0m\n\u001b[0;32m    979\u001b[0m val \u001b[39m=\u001b[39m cache\u001b[39m.\u001b[39mget(\u001b[39mself\u001b[39m\u001b[39m.\u001b[39mattrname, _NOT_FOUND)\n\u001b[0;32m    980\u001b[0m \u001b[39mif\u001b[39;00m val \u001b[39mis\u001b[39;00m _NOT_FOUND:\n\u001b[1;32m--> 981\u001b[0m     val \u001b[39m=\u001b[39m \u001b[39mself\u001b[39;49m\u001b[39m.\u001b[39;49mfunc(instance)\n\u001b[0;32m    982\u001b[0m     \u001b[39mtry\u001b[39;00m:\n\u001b[0;32m    983\u001b[0m         cache[\u001b[39mself\u001b[39m\u001b[39m.\u001b[39mattrname] \u001b[39m=\u001b[39m val\n",
      "File \u001b[1;32mc:\\Users\\ganeshkasyap.movva\\AppData\\Local\\Programs\\Python\\Python310\\lib\\site-packages\\snowflake\\snowpark\\_internal\\analyzer\\snowflake_plan.py:250\u001b[0m, in \u001b[0;36mSnowflakePlan.attributes\u001b[1;34m(self)\u001b[0m\n\u001b[0;32m    248\u001b[0m \u001b[39m@cached_property\u001b[39m\n\u001b[0;32m    249\u001b[0m \u001b[39mdef\u001b[39;00m \u001b[39mattributes\u001b[39m(\u001b[39mself\u001b[39m) \u001b[39m-\u001b[39m\u001b[39m>\u001b[39m List[Attribute]:\n\u001b[1;32m--> 250\u001b[0m     output \u001b[39m=\u001b[39m analyze_attributes(\u001b[39mself\u001b[39;49m\u001b[39m.\u001b[39;49mschema_query, \u001b[39mself\u001b[39;49m\u001b[39m.\u001b[39;49msession)\n\u001b[0;32m    251\u001b[0m     \u001b[39mself\u001b[39m\u001b[39m.\u001b[39mschema_query \u001b[39m=\u001b[39m schema_value_statement(output)\n\u001b[0;32m    252\u001b[0m     \u001b[39mreturn\u001b[39;00m output\n",
      "File \u001b[1;32mc:\\Users\\ganeshkasyap.movva\\AppData\\Local\\Programs\\Python\\Python310\\lib\\site-packages\\snowflake\\snowpark\\_internal\\analyzer\\schema_utils.py:82\u001b[0m, in \u001b[0;36manalyze_attributes\u001b[1;34m(sql, session)\u001b[0m\n\u001b[0;32m     79\u001b[0m     session\u001b[39m.\u001b[39m_run_query(sql)\n\u001b[0;32m     80\u001b[0m     \u001b[39mreturn\u001b[39;00m convert_result_meta_to_attribute(session\u001b[39m.\u001b[39m_conn\u001b[39m.\u001b[39m_cursor\u001b[39m.\u001b[39mdescription)\n\u001b[1;32m---> 82\u001b[0m \u001b[39mreturn\u001b[39;00m session\u001b[39m.\u001b[39;49m_get_result_attributes(sql)\n",
      "File \u001b[1;32mc:\\Users\\ganeshkasyap.movva\\AppData\\Local\\Programs\\Python\\Python310\\lib\\site-packages\\snowflake\\snowpark\\session.py:1630\u001b[0m, in \u001b[0;36mSession._get_result_attributes\u001b[1;34m(self, query)\u001b[0m\n\u001b[0;32m   1629\u001b[0m \u001b[39mdef\u001b[39;00m \u001b[39m_get_result_attributes\u001b[39m(\u001b[39mself\u001b[39m, query: \u001b[39mstr\u001b[39m) \u001b[39m-\u001b[39m\u001b[39m>\u001b[39m List[Attribute]:\n\u001b[1;32m-> 1630\u001b[0m     \u001b[39mreturn\u001b[39;00m \u001b[39mself\u001b[39;49m\u001b[39m.\u001b[39;49m_conn\u001b[39m.\u001b[39;49mget_result_attributes(query)\n",
      "File \u001b[1;32mc:\\Users\\ganeshkasyap.movva\\AppData\\Local\\Programs\\Python\\Python310\\lib\\site-packages\\snowflake\\snowpark\\_internal\\analyzer\\snowflake_plan.py:181\u001b[0m, in \u001b[0;36mSnowflakePlan.Decorator.wrap_exception.<locals>.wrap\u001b[1;34m(*args, **kwargs)\u001b[0m\n\u001b[0;32m    177\u001b[0m \u001b[39melse\u001b[39;00m:\n\u001b[0;32m    178\u001b[0m     ne \u001b[39m=\u001b[39m SnowparkClientExceptionMessages\u001b[39m.\u001b[39mSQL_EXCEPTION_FROM_PROGRAMMING_ERROR(\n\u001b[0;32m    179\u001b[0m         e\n\u001b[0;32m    180\u001b[0m     )\n\u001b[1;32m--> 181\u001b[0m     \u001b[39mraise\u001b[39;00m ne\u001b[39m.\u001b[39mwith_traceback(tb) \u001b[39mfrom\u001b[39;00m \u001b[39mNone\u001b[39;00m\n",
      "File \u001b[1;32mc:\\Users\\ganeshkasyap.movva\\AppData\\Local\\Programs\\Python\\Python310\\lib\\site-packages\\snowflake\\snowpark\\_internal\\analyzer\\snowflake_plan.py:111\u001b[0m, in \u001b[0;36mSnowflakePlan.Decorator.wrap_exception.<locals>.wrap\u001b[1;34m(*args, **kwargs)\u001b[0m\n\u001b[0;32m    109\u001b[0m \u001b[39mdef\u001b[39;00m \u001b[39mwrap\u001b[39m(\u001b[39m*\u001b[39margs, \u001b[39m*\u001b[39m\u001b[39m*\u001b[39mkwargs):\n\u001b[0;32m    110\u001b[0m     \u001b[39mtry\u001b[39;00m:\n\u001b[1;32m--> 111\u001b[0m         \u001b[39mreturn\u001b[39;00m func(\u001b[39m*\u001b[39margs, \u001b[39m*\u001b[39m\u001b[39m*\u001b[39mkwargs)\n\u001b[0;32m    112\u001b[0m     \u001b[39mexcept\u001b[39;00m snowflake\u001b[39m.\u001b[39mconnector\u001b[39m.\u001b[39merrors\u001b[39m.\u001b[39mProgrammingError \u001b[39mas\u001b[39;00m e:\n\u001b[0;32m    113\u001b[0m         query \u001b[39m=\u001b[39m \u001b[39mNone\u001b[39;00m\n",
      "File \u001b[1;32mc:\\Users\\ganeshkasyap.movva\\AppData\\Local\\Programs\\Python\\Python310\\lib\\site-packages\\snowflake\\snowpark\\_internal\\server_connection.py:206\u001b[0m, in \u001b[0;36mServerConnection.get_result_attributes\u001b[1;34m(self, query)\u001b[0m\n\u001b[0;32m    204\u001b[0m \u001b[39m@SnowflakePlan\u001b[39m\u001b[39m.\u001b[39mDecorator\u001b[39m.\u001b[39mwrap_exception\n\u001b[0;32m    205\u001b[0m \u001b[39mdef\u001b[39;00m \u001b[39mget_result_attributes\u001b[39m(\u001b[39mself\u001b[39m, query: \u001b[39mstr\u001b[39m) \u001b[39m-\u001b[39m\u001b[39m>\u001b[39m List[Attribute]:\n\u001b[1;32m--> 206\u001b[0m     \u001b[39mreturn\u001b[39;00m convert_result_meta_to_attribute(\u001b[39mself\u001b[39;49m\u001b[39m.\u001b[39;49m_cursor\u001b[39m.\u001b[39;49mdescribe(query))\n",
      "File \u001b[1;32mc:\\Users\\ganeshkasyap.movva\\AppData\\Local\\Programs\\Python\\Python310\\lib\\site-packages\\snowflake\\connector\\cursor.py:930\u001b[0m, in \u001b[0;36mSnowflakeCursor.describe\u001b[1;34m(self, *args, **kwargs)\u001b[0m\n\u001b[0;32m    921\u001b[0m \u001b[39m\u001b[39m\u001b[39m\"\"\"Obtain the schema of the result without executing the query.\u001b[39;00m\n\u001b[0;32m    922\u001b[0m \n\u001b[0;32m    923\u001b[0m \u001b[39mThis function takes the same arguments as execute, please refer to that function\u001b[39;00m\n\u001b[1;32m   (...)\u001b[0m\n\u001b[0;32m    927\u001b[0m \u001b[39m    The schema of the result.\u001b[39;00m\n\u001b[0;32m    928\u001b[0m \u001b[39m\"\"\"\u001b[39;00m\n\u001b[0;32m    929\u001b[0m kwargs[\u001b[39m\"\u001b[39m\u001b[39m_describe_only\u001b[39m\u001b[39m\"\u001b[39m] \u001b[39m=\u001b[39m kwargs[\u001b[39m\"\u001b[39m\u001b[39m_is_internal\u001b[39m\u001b[39m\"\u001b[39m] \u001b[39m=\u001b[39m \u001b[39mTrue\u001b[39;00m\n\u001b[1;32m--> 930\u001b[0m \u001b[39mself\u001b[39m\u001b[39m.\u001b[39mexecute(\u001b[39m*\u001b[39margs, \u001b[39m*\u001b[39m\u001b[39m*\u001b[39mkwargs)\n\u001b[0;32m    931\u001b[0m \u001b[39mreturn\u001b[39;00m \u001b[39mself\u001b[39m\u001b[39m.\u001b[39m_description\n",
      "File \u001b[1;32mc:\\Users\\ganeshkasyap.movva\\AppData\\Local\\Programs\\Python\\Python310\\lib\\site-packages\\snowflake\\connector\\cursor.py:908\u001b[0m, in \u001b[0;36mSnowflakeCursor.execute\u001b[1;34m(self, command, params, _bind_stage, timeout, _exec_async, _no_retry, _do_reset, _put_callback, _put_azure_callback, _put_callback_output_stream, _get_callback, _get_azure_callback, _get_callback_output_stream, _show_progress_bar, _statement_params, _is_internal, _describe_only, _no_results, _is_put_get, _raise_put_get_error, _force_put_overwrite, _skip_upload_on_content_match, file_stream, num_statements)\u001b[0m\n\u001b[0;32m    904\u001b[0m     is_integrity_error \u001b[39m=\u001b[39m (\n\u001b[0;32m    905\u001b[0m         code \u001b[39m==\u001b[39m \u001b[39m\"\u001b[39m\u001b[39m100072\u001b[39m\u001b[39m\"\u001b[39m\n\u001b[0;32m    906\u001b[0m     )  \u001b[39m# NULL result in a non-nullable column\u001b[39;00m\n\u001b[0;32m    907\u001b[0m     error_class \u001b[39m=\u001b[39m IntegrityError \u001b[39mif\u001b[39;00m is_integrity_error \u001b[39melse\u001b[39;00m ProgrammingError\n\u001b[1;32m--> 908\u001b[0m     Error\u001b[39m.\u001b[39;49merrorhandler_wrapper(\u001b[39mself\u001b[39;49m\u001b[39m.\u001b[39;49mconnection, \u001b[39mself\u001b[39;49m, error_class, errvalue)\n\u001b[0;32m    909\u001b[0m \u001b[39mreturn\u001b[39;00m \u001b[39mself\u001b[39m\n",
      "File \u001b[1;32mc:\\Users\\ganeshkasyap.movva\\AppData\\Local\\Programs\\Python\\Python310\\lib\\site-packages\\snowflake\\connector\\errors.py:290\u001b[0m, in \u001b[0;36mError.errorhandler_wrapper\u001b[1;34m(connection, cursor, error_class, error_value)\u001b[0m\n\u001b[0;32m    267\u001b[0m \u001b[39m@staticmethod\u001b[39m\n\u001b[0;32m    268\u001b[0m \u001b[39mdef\u001b[39;00m \u001b[39merrorhandler_wrapper\u001b[39m(\n\u001b[0;32m    269\u001b[0m     connection: SnowflakeConnection \u001b[39m|\u001b[39m \u001b[39mNone\u001b[39;00m,\n\u001b[1;32m   (...)\u001b[0m\n\u001b[0;32m    272\u001b[0m     error_value: \u001b[39mdict\u001b[39m[\u001b[39mstr\u001b[39m, Any],\n\u001b[0;32m    273\u001b[0m ) \u001b[39m-\u001b[39m\u001b[39m>\u001b[39m \u001b[39mNone\u001b[39;00m:\n\u001b[0;32m    274\u001b[0m \u001b[39m    \u001b[39m\u001b[39m\"\"\"Error handler wrapper that calls the errorhandler method.\u001b[39;00m\n\u001b[0;32m    275\u001b[0m \n\u001b[0;32m    276\u001b[0m \u001b[39m    Args:\u001b[39;00m\n\u001b[1;32m   (...)\u001b[0m\n\u001b[0;32m    287\u001b[0m \u001b[39m        exception to the first handler in that order.\u001b[39;00m\n\u001b[0;32m    288\u001b[0m \u001b[39m    \"\"\"\u001b[39;00m\n\u001b[1;32m--> 290\u001b[0m     handed_over \u001b[39m=\u001b[39m Error\u001b[39m.\u001b[39;49mhand_to_other_handler(\n\u001b[0;32m    291\u001b[0m         connection,\n\u001b[0;32m    292\u001b[0m         cursor,\n\u001b[0;32m    293\u001b[0m         error_class,\n\u001b[0;32m    294\u001b[0m         error_value,\n\u001b[0;32m    295\u001b[0m     )\n\u001b[0;32m    296\u001b[0m     \u001b[39mif\u001b[39;00m \u001b[39mnot\u001b[39;00m handed_over:\n\u001b[0;32m    297\u001b[0m         \u001b[39mraise\u001b[39;00m Error\u001b[39m.\u001b[39merrorhandler_make_exception(\n\u001b[0;32m    298\u001b[0m             error_class,\n\u001b[0;32m    299\u001b[0m             error_value,\n\u001b[0;32m    300\u001b[0m         )\n",
      "File \u001b[1;32mc:\\Users\\ganeshkasyap.movva\\AppData\\Local\\Programs\\Python\\Python310\\lib\\site-packages\\snowflake\\connector\\errors.py:345\u001b[0m, in \u001b[0;36mError.hand_to_other_handler\u001b[1;34m(connection, cursor, error_class, error_value)\u001b[0m\n\u001b[0;32m    343\u001b[0m \u001b[39mif\u001b[39;00m cursor \u001b[39mis\u001b[39;00m \u001b[39mnot\u001b[39;00m \u001b[39mNone\u001b[39;00m:\n\u001b[0;32m    344\u001b[0m     cursor\u001b[39m.\u001b[39mmessages\u001b[39m.\u001b[39mappend((error_class, error_value))\n\u001b[1;32m--> 345\u001b[0m     cursor\u001b[39m.\u001b[39;49merrorhandler(connection, cursor, error_class, error_value)\n\u001b[0;32m    346\u001b[0m     \u001b[39mreturn\u001b[39;00m \u001b[39mTrue\u001b[39;00m\n\u001b[0;32m    347\u001b[0m \u001b[39melif\u001b[39;00m connection \u001b[39mis\u001b[39;00m \u001b[39mnot\u001b[39;00m \u001b[39mNone\u001b[39;00m:\n",
      "File \u001b[1;32mc:\\Users\\ganeshkasyap.movva\\AppData\\Local\\Programs\\Python\\Python310\\lib\\site-packages\\snowflake\\connector\\errors.py:221\u001b[0m, in \u001b[0;36mError.default_errorhandler\u001b[1;34m(connection, cursor, error_class, error_value)\u001b[0m\n\u001b[0;32m    219\u001b[0m errno \u001b[39m=\u001b[39m error_value\u001b[39m.\u001b[39mget(\u001b[39m\"\u001b[39m\u001b[39merrno\u001b[39m\u001b[39m\"\u001b[39m)\n\u001b[0;32m    220\u001b[0m done_format_msg \u001b[39m=\u001b[39m error_value\u001b[39m.\u001b[39mget(\u001b[39m\"\u001b[39m\u001b[39mdone_format_msg\u001b[39m\u001b[39m\"\u001b[39m)\n\u001b[1;32m--> 221\u001b[0m \u001b[39mraise\u001b[39;00m error_class(\n\u001b[0;32m    222\u001b[0m     msg\u001b[39m=\u001b[39merror_value\u001b[39m.\u001b[39mget(\u001b[39m\"\u001b[39m\u001b[39mmsg\u001b[39m\u001b[39m\"\u001b[39m),\n\u001b[0;32m    223\u001b[0m     errno\u001b[39m=\u001b[39m\u001b[39mNone\u001b[39;00m \u001b[39mif\u001b[39;00m errno \u001b[39mis\u001b[39;00m \u001b[39mNone\u001b[39;00m \u001b[39melse\u001b[39;00m \u001b[39mint\u001b[39m(errno),\n\u001b[0;32m    224\u001b[0m     sqlstate\u001b[39m=\u001b[39merror_value\u001b[39m.\u001b[39mget(\u001b[39m\"\u001b[39m\u001b[39msqlstate\u001b[39m\u001b[39m\"\u001b[39m),\n\u001b[0;32m    225\u001b[0m     sfqid\u001b[39m=\u001b[39merror_value\u001b[39m.\u001b[39mget(\u001b[39m\"\u001b[39m\u001b[39msfqid\u001b[39m\u001b[39m\"\u001b[39m),\n\u001b[0;32m    226\u001b[0m     query\u001b[39m=\u001b[39merror_value\u001b[39m.\u001b[39mget(\u001b[39m\"\u001b[39m\u001b[39mquery\u001b[39m\u001b[39m\"\u001b[39m),\n\u001b[0;32m    227\u001b[0m     done_format_msg\u001b[39m=\u001b[39m(\n\u001b[0;32m    228\u001b[0m         \u001b[39mNone\u001b[39;00m \u001b[39mif\u001b[39;00m done_format_msg \u001b[39mis\u001b[39;00m \u001b[39mNone\u001b[39;00m \u001b[39melse\u001b[39;00m \u001b[39mbool\u001b[39m(done_format_msg)\n\u001b[0;32m    229\u001b[0m     ),\n\u001b[0;32m    230\u001b[0m     connection\u001b[39m=\u001b[39mconnection,\n\u001b[0;32m    231\u001b[0m     cursor\u001b[39m=\u001b[39mcursor,\n\u001b[0;32m    232\u001b[0m )\n",
      "\u001b[1;31mSnowparkSQLException\u001b[0m: (1304): 01ae83c4-3200-da5c-0005-d0a20001300e: 090105 (22000): Cannot perform SELECT. This session does not have a current database. Call 'USE DATABASE', or use a qualified name."
     ]
    }
   ],
   "source": [
    "session.sproc.register_from_file(\n",
    "    file_path = f\"@{SNOWPATROL_DB}.{SNOWPATROL_SCHEMA}.{DEPS_STAGE}/train.py\"\n",
    "    ,func_name = \"run_model_today\"\n",
    "    ,name=f\"{SNOWPATROL_DB}.{SNOWPATROL_SCHEMA}.run_model_today\"\n",
    "    ,input_types=[T.IntegerType(),T.IntegerType(),T.FloatType(),T.BooleanType(),T.BooleanType(),T.BooleanType(), T.BooleanType()]\n",
    "    ,return_type=T.VariantType()\n",
    "    ,is_permanent=True\n",
    "    ,replace=True\n",
    "    ,stage_location=f\"@{SNOWPATROL_DB}.{SNOWPATROL_SCHEMA}.{OBJECT_STAGE}\"\n",
    "    ,packages=['snowflake-snowpark-python','pandas','scikit-learn==1.2.1','joblib==1.1.1', 'numpy']\n",
    "    ,imports=[f\"@{SNOWPATROL_DB}.{SNOWPATROL_SCHEMA}.{DEPS_STAGE}/constants.py\"]\n",
    ")"
   ]
  },
  {
   "attachments": {},
   "cell_type": "markdown",
   "id": "04883492",
   "metadata": {},
   "source": [
    "## License usage probablity prediction with revocation decision\n",
    "Local trigger"
   ]
  },
  {
   "cell_type": "code",
   "execution_count": null,
   "id": "b0528570",
   "metadata": {},
   "outputs": [],
   "source": [
    "# %%time\n",
    "# from train import run_model_today\n",
    "# results = session.call('run_model_today', 1,45,0.5,False,False,False,False)\n",
    "# display(results)"
   ]
  },
  {
   "cell_type": "code",
   "execution_count": null,
   "id": "0b90e200",
   "metadata": {},
   "outputs": [],
   "source": [
    "# license_prediction_feature_set = session.table(f\"{SNOWPATROL_DB}.{SNOWPATROL_SCHEMA}.license_prediction_feature_set\")\n",
    "# license_usage_probability = license_prediction_feature_set.select(\n",
    "#     F.col(\"session_user\")\n",
    "#     , F.col(\"title\")\n",
    "#     , F.col(\"department\")\n",
    "#     , F.col(\"division\")\n",
    "#     , F.col(\"work_days_since_last_login\")\n",
    "#     ,F.col(\"training_date\").alias(\"model_trained_on\")\n",
    "#     ,F.col(\"cutoff_date\")\n",
    "#     , F.call_udf(f\"{SNOWPATROL_DB}.{SNOWPATROL_SCHEMA}.udf_predict_login_probability\", *[F.col(c) for c in [\"weighted_authentications_per_day\",\"work_days_since_last_login\", 'authentications_per_day', 'log_work_days_since_last_login']]).alias(\"probability_no_login\")\n",
    "# )\n",
    "# license_revocation_decision = license_usage_probability.with_column(\"revoke_access\", F.iff(F.col(\"probability_no_login\") > 0.5, 1, 0))\n",
    "\n",
    "# license_revocation_decision.write.mode(\"overwrite\").save_as_table(f\"{SNOWPATROL_DB}.{SNOWPATROL_SCHEMA}.license_revocation_decision\")"
   ]
  }
 ],
 "metadata": {
  "kernelspec": {
   "display_name": "Python 3 (ipykernel)",
   "language": "python",
   "name": "python3"
  },
  "language_info": {
   "codemirror_mode": {
    "name": "ipython",
    "version": 3
   },
   "file_extension": ".py",
   "mimetype": "text/x-python",
   "name": "python",
   "nbconvert_exporter": "python",
   "pygments_lexer": "ipython3",
   "version": "3.10.3"
  }
 },
 "nbformat": 4,
 "nbformat_minor": 5
}
